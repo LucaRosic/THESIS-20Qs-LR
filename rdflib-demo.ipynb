{
 "cells": [
  {
   "cell_type": "code",
   "execution_count": 31,
   "id": "a390f956",
   "metadata": {
    "id": "a390f956",
    "outputId": "ff5a7107-0d93-4f96-8255-a5d635dc1d53"
   },
   "outputs": [],
   "source": [
    "import rdflib\n",
    "g = rdflib.Graph().parse('./fb15k-wikitop2021-yago-facts.nt', format='ntriples')\n",
    "g += rdflib.Graph().parse('./fb15k-wikitop2021-yago-full-types.nt', format='ntriples')\n",
    "\n",
    "from rdflib.namespace import RDF\n",
    "for line in open('fb15k-wikitop2021.tsv').readlines()[1:]:\n",
    "    subject = rdflib.URIRef( line.split('\\t')[6][1:-1] ) # take the URI in column 6\n",
    "    g.add( (subject, RDF.type, rdflib.URIRef('http://example.com/popularEntity')) )"
   ]
  },
  {
   "cell_type": "code",
   "execution_count": 33,
   "id": "1e169c2a-d597-461d-9e57-c91e5f148b2d",
   "metadata": {},
   "outputs": [
    {
     "name": "stdout",
     "output_type": "stream",
     "text": [
      "22-rdf-syntax-ns#type                    popularEntity                            186                                     \n",
      "22-rdf-syntax-ns#type                    Human                                    134                                     \n",
      "knowsLanguage                            English_language                         118                                     \n",
      "nationality                              United_States                            93                                      \n",
      "hasOccupation                            Actor                                    77                                      \n",
      "hasOccupation                            Film_producer                            51                                      \n",
      "hasOccupation                            Screenwriter                             37                                      \n",
      "hasOccupation                            Film_director                            32                                      \n",
      "memberOf                                 Democratic_Party_(United_States)         29                                      \n",
      "22-rdf-syntax-ns#type                    Country                                  25                                      \n"
     ]
    }
   ],
   "source": [
    "r = g.query(\"\"\"\n",
    "select (count(*) as ?count) ?p ?o where \n",
    "{\n",
    "    ?s <http://www.w3.org/1999/02/22-rdf-syntax-ns#type> <http://example.com/popularEntity> .\n",
    "    ?s ?p ?o .\n",
    "} \n",
    "group by ?p ?o \n",
    "order by desc(?count)\n",
    "limit 10\n",
    "\"\"\")\n",
    "for b in r.bindings:\n",
    "    print(*[f'{x.split(\"/\")[-1][:40]:40s}' for x in b.values()])"
   ]
  },
  {
   "cell_type": "code",
   "execution_count": 39,
   "id": "e6f82c24",
   "metadata": {
    "colab": {
     "base_uri": "https://localhost:8080/"
    },
    "executionInfo": {
     "elapsed": 14129,
     "status": "ok",
     "timestamp": 1666254104762,
     "user": {
      "displayName": "BB Kruit",
      "userId": "04023879009079817469"
     },
     "user_tz": -120
    },
    "id": "e6f82c24",
    "outputId": "750edc7f-8497-4873-b9c0-be3fead68873"
   },
   "outputs": [
    {
     "name": "stdin",
     "output_type": "stream",
     "text": [
      "is it something? n\n"
     ]
    },
    {
     "data": {
      "text/plain": [
       "False"
      ]
     },
     "execution_count": 39,
     "metadata": {},
     "output_type": "execute_result"
    }
   ],
   "source": [
    "answer = (input('is it something?').startswith('y'))\n",
    "answer"
   ]
  },
  {
   "cell_type": "code",
   "execution_count": null,
   "id": "5upGsUEwexF9",
   "metadata": {
    "id": "5upGsUEwexF9"
   },
   "outputs": [],
   "source": []
  }
 ],
 "metadata": {
  "colab": {
   "provenance": []
  },
  "kernelspec": {
   "display_name": "Python 3 (ipykernel)",
   "language": "python",
   "name": "python3"
  },
  "language_info": {
   "codemirror_mode": {
    "name": "ipython",
    "version": 3
   },
   "file_extension": ".py",
   "mimetype": "text/x-python",
   "name": "python",
   "nbconvert_exporter": "python",
   "pygments_lexer": "ipython3",
   "version": "3.9.0"
  }
 },
 "nbformat": 4,
 "nbformat_minor": 5
}
