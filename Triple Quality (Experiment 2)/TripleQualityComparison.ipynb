{
 "cells": [
  {
   "cell_type": "code",
   "execution_count": 2,
   "id": "942b8abc-90d9-4719-bcde-8cc0839f2e13",
   "metadata": {},
   "outputs": [
    {
     "data": {
      "text/html": [
       "<div>\n",
       "<style scoped>\n",
       "    .dataframe tbody tr th:only-of-type {\n",
       "        vertical-align: middle;\n",
       "    }\n",
       "\n",
       "    .dataframe tbody tr th {\n",
       "        vertical-align: top;\n",
       "    }\n",
       "\n",
       "    .dataframe thead th {\n",
       "        text-align: right;\n",
       "    }\n",
       "</style>\n",
       "<table border=\"1\" class=\"dataframe\">\n",
       "  <thead>\n",
       "    <tr style=\"text-align: right;\">\n",
       "      <th></th>\n",
       "      <th>Entity</th>\n",
       "      <th>Label</th>\n",
       "      <th>Abstract</th>\n",
       "      <th>Stanford-Trips-Raw</th>\n",
       "      <th>Stanford</th>\n",
       "    </tr>\n",
       "  </thead>\n",
       "  <tbody>\n",
       "    <tr>\n",
       "      <th>0</th>\n",
       "      <td>http://yago-knowledge.org/resource/David_Bowie</td>\n",
       "      <td>David Bowie</td>\n",
       "      <td>David Robert Jones (8 January 1947 – 10 Januar...</td>\n",
       "      <td>[['was', 'English'], ['was acclaimed by', 'cri...</td>\n",
       "      <td>[['type', 'English'], ['for', 'critics'], ['pa...</td>\n",
       "    </tr>\n",
       "    <tr>\n",
       "      <th>1</th>\n",
       "      <td>http://yago-knowledge.org/resource/Kanye_West</td>\n",
       "      <td>Kanye West</td>\n",
       "      <td>Ye (/jeɪ/ YAY; born Kanye Omari West /ˈkɑːnjeɪ...</td>\n",
       "      <td>[['is', 'American'], ['is', 'regarded'], ['is'...</td>\n",
       "      <td>[['workedFor', 'producer'], ['producedFor', 'R...</td>\n",
       "    </tr>\n",
       "    <tr>\n",
       "      <th>2</th>\n",
       "      <td>http://yago-knowledge.org/resource/Eminem</td>\n",
       "      <td>Eminem</td>\n",
       "      <td>Marshall Bruce Mathers III (born October 17, 1...</td>\n",
       "      <td>[['is credited with', 'hip hop'], ['is credite...</td>\n",
       "      <td>[['creditedWith', 'hip_hop'], ['specializesIn'...</td>\n",
       "    </tr>\n",
       "    <tr>\n",
       "      <th>3</th>\n",
       "      <td>http://yago-knowledge.org/resource/Jennifer_An...</td>\n",
       "      <td>Jennifer Aniston</td>\n",
       "      <td>Jennifer Joanna Aniston (born February 11, 196...</td>\n",
       "      <td>[['is', 'American'], ['is recipient of', 'acco...</td>\n",
       "      <td>[['awardsIncluding', 'accolades'], ['awardsInc...</td>\n",
       "    </tr>\n",
       "    <tr>\n",
       "      <th>4</th>\n",
       "      <td>http://yago-knowledge.org/resource/George_W._Bush</td>\n",
       "      <td>George W. Bush</td>\n",
       "      <td>George Walker Bush (born July 6, 1946) is an A...</td>\n",
       "      <td>[['is', 'American'], ['served as', 'governor o...</td>\n",
       "      <td>[['sonOf', 'governor'], ['universityOf', 'Texa...</td>\n",
       "    </tr>\n",
       "    <tr>\n",
       "      <th>...</th>\n",
       "      <td>...</td>\n",
       "      <td>...</td>\n",
       "      <td>...</td>\n",
       "      <td>...</td>\n",
       "      <td>...</td>\n",
       "    </tr>\n",
       "    <tr>\n",
       "      <th>179</th>\n",
       "      <td>http://yago-knowledge.org/resource/Nancy_Pelosi</td>\n",
       "      <td>Nancy Pelosi</td>\n",
       "      <td>Nancy Patricia Pelosi (/pəˈloʊsi/; née D'Alesa...</td>\n",
       "      <td>[['is', 'American'], ['has represented', \"Cali...</td>\n",
       "      <td>[['livesIn', \"California_'s_district\"], ['serv...</td>\n",
       "    </tr>\n",
       "    <tr>\n",
       "      <th>180</th>\n",
       "      <td>http://yago-knowledge.org/resource/Andhra_Pradesh</td>\n",
       "      <td>Andhra Pradesh</td>\n",
       "      <td>Andhra Pradesh (English: /ˌɑːndrə prəˈdɛʃ/, Te...</td>\n",
       "      <td>[['is', 'state'], ['is state in', 'south easte...</td>\n",
       "      <td>[['type', 'state'], ['partOf', 'south_eastern_...</td>\n",
       "    </tr>\n",
       "    <tr>\n",
       "      <th>181</th>\n",
       "      <td>http://yago-knowledge.org/resource/Maharashtra</td>\n",
       "      <td>Maharashtra</td>\n",
       "      <td>Maharashtra (/məhɑːˈrɑːʃtrə/; Marathi: [məhara...</td>\n",
       "      <td>[['is state in', 'western region'], ['is', 'st...</td>\n",
       "      <td>[['stateIn', 'western_region'], ['isIn', 'stat...</td>\n",
       "    </tr>\n",
       "    <tr>\n",
       "      <th>182</th>\n",
       "      <td>http://yago-knowledge.org/resource/Paris_Saint...</td>\n",
       "      <td>Paris Saint-Germain F.C.</td>\n",
       "      <td>Paris Saint-Germain Football Club (French pron...</td>\n",
       "      <td>[['referred to', 'to Paris Saint Germain'], ['...</td>\n",
       "      <td>[['referredTo', 'Paris_Saint_Germain'], ['comp...</td>\n",
       "    </tr>\n",
       "    <tr>\n",
       "      <th>183</th>\n",
       "      <td>http://yago-knowledge.org/resource/Uttar_Pradesh</td>\n",
       "      <td>Uttar Pradesh</td>\n",
       "      <td>Uttar Pradesh (/ˌʊtər prəˈdɛʃ/; Hindi: [ˈʊtːəɾ...</td>\n",
       "      <td>[['is state in', 'India'], ['is state in', 'no...</td>\n",
       "      <td>[['stateIn', 'India'], ['isIn', 'northern_Indi...</td>\n",
       "    </tr>\n",
       "  </tbody>\n",
       "</table>\n",
       "<p>184 rows × 5 columns</p>\n",
       "</div>"
      ],
      "text/plain": [
       "                                                Entity   \n",
       "0       http://yago-knowledge.org/resource/David_Bowie  \\\n",
       "1        http://yago-knowledge.org/resource/Kanye_West   \n",
       "2            http://yago-knowledge.org/resource/Eminem   \n",
       "3    http://yago-knowledge.org/resource/Jennifer_An...   \n",
       "4    http://yago-knowledge.org/resource/George_W._Bush   \n",
       "..                                                 ...   \n",
       "179    http://yago-knowledge.org/resource/Nancy_Pelosi   \n",
       "180  http://yago-knowledge.org/resource/Andhra_Pradesh   \n",
       "181     http://yago-knowledge.org/resource/Maharashtra   \n",
       "182  http://yago-knowledge.org/resource/Paris_Saint...   \n",
       "183   http://yago-knowledge.org/resource/Uttar_Pradesh   \n",
       "\n",
       "                        Label   \n",
       "0                 David Bowie  \\\n",
       "1                  Kanye West   \n",
       "2                      Eminem   \n",
       "3            Jennifer Aniston   \n",
       "4              George W. Bush   \n",
       "..                        ...   \n",
       "179              Nancy Pelosi   \n",
       "180            Andhra Pradesh   \n",
       "181               Maharashtra   \n",
       "182  Paris Saint-Germain F.C.   \n",
       "183             Uttar Pradesh   \n",
       "\n",
       "                                              Abstract   \n",
       "0    David Robert Jones (8 January 1947 – 10 Januar...  \\\n",
       "1    Ye (/jeɪ/ YAY; born Kanye Omari West /ˈkɑːnjeɪ...   \n",
       "2    Marshall Bruce Mathers III (born October 17, 1...   \n",
       "3    Jennifer Joanna Aniston (born February 11, 196...   \n",
       "4    George Walker Bush (born July 6, 1946) is an A...   \n",
       "..                                                 ...   \n",
       "179  Nancy Patricia Pelosi (/pəˈloʊsi/; née D'Alesa...   \n",
       "180  Andhra Pradesh (English: /ˌɑːndrə prəˈdɛʃ/, Te...   \n",
       "181  Maharashtra (/məhɑːˈrɑːʃtrə/; Marathi: [məhara...   \n",
       "182  Paris Saint-Germain Football Club (French pron...   \n",
       "183  Uttar Pradesh (/ˌʊtər prəˈdɛʃ/; Hindi: [ˈʊtːəɾ...   \n",
       "\n",
       "                                    Stanford-Trips-Raw   \n",
       "0    [['was', 'English'], ['was acclaimed by', 'cri...  \\\n",
       "1    [['is', 'American'], ['is', 'regarded'], ['is'...   \n",
       "2    [['is credited with', 'hip hop'], ['is credite...   \n",
       "3    [['is', 'American'], ['is recipient of', 'acco...   \n",
       "4    [['is', 'American'], ['served as', 'governor o...   \n",
       "..                                                 ...   \n",
       "179  [['is', 'American'], ['has represented', \"Cali...   \n",
       "180  [['is', 'state'], ['is state in', 'south easte...   \n",
       "181  [['is state in', 'western region'], ['is', 'st...   \n",
       "182  [['referred to', 'to Paris Saint Germain'], ['...   \n",
       "183  [['is state in', 'India'], ['is state in', 'no...   \n",
       "\n",
       "                                              Stanford  \n",
       "0    [['type', 'English'], ['for', 'critics'], ['pa...  \n",
       "1    [['workedFor', 'producer'], ['producedFor', 'R...  \n",
       "2    [['creditedWith', 'hip_hop'], ['specializesIn'...  \n",
       "3    [['awardsIncluding', 'accolades'], ['awardsInc...  \n",
       "4    [['sonOf', 'governor'], ['universityOf', 'Texa...  \n",
       "..                                                 ...  \n",
       "179  [['livesIn', \"California_'s_district\"], ['serv...  \n",
       "180  [['type', 'state'], ['partOf', 'south_eastern_...  \n",
       "181  [['stateIn', 'western_region'], ['isIn', 'stat...  \n",
       "182  [['referredTo', 'Paris_Saint_Germain'], ['comp...  \n",
       "183  [['stateIn', 'India'], ['isIn', 'northern_Indi...  \n",
       "\n",
       "[184 rows x 5 columns]"
      ]
     },
     "execution_count": 2,
     "metadata": {},
     "output_type": "execute_result"
    }
   ],
   "source": [
    "import pandas as pd\n",
    "stanford = pd.read_csv(\"Stanford-186.csv\")\n",
    "stanford = stanford.drop('Unnamed: 0', axis=1)\n",
    "stanford "
   ]
  },
  {
   "cell_type": "code",
   "execution_count": 3,
   "id": "ad3548cc-55fc-4440-943f-8e96a151e295",
   "metadata": {},
   "outputs": [
    {
     "data": {
      "text/plain": [
       "\"The Philippines (/ˈfɪlɪpiːnz/; Filipino: Pilipinas), officially the Republic of the Philippines (Filipino: Republika ng Pilipinas), is an archipelagic country in Southeast Asia. It is situated in the western Pacific Ocean and consists of around 7,641 islands that are broadly categorized under three main geographical divisions from north to south: Luzon, Visayas, and Mindanao. The Philippines is bounded by the South China Sea to the west, the Philippine Sea to the east, and the Celebes Sea to the southwest. It shares maritime borders with Taiwan to the north, Japan to the northeast, Palau to the east and southeast, Indonesia to the south, Malaysia to the southwest, Vietnam to the west, and China to the northwest. The Philippines covers an area of 300,000 km2 (120,000 sq mi) and, as of 2021, it had a population of around 109 million people, making it the world's thirteenth-most populous country. The Philippines has diverse ethnicities and cultures throughout its islands. Manila is the country's capital, while the largest city is Quezon City; both lie within the urban area of Metro Manila. Negritos, some of the archipelago's earliest inhabitants, were followed by successive waves of Austronesian peoples. Adoption of animism, Hinduism and Islam established island-kingdoms called Kedatuan, Rajahnates, and Sultanates. The arrival of Ferdinand Magellan, a Portuguese explorer leading a fleet for Spain, marked the beginning of Spanish colonization. In 1543, Spanish explorer Ruy López de Villalobos named the archipelago Las Islas Filipinas in honor of Philip II of Spain. Spanish settlement through Mexico, beginning in 1565, led to the Philippines becoming ruled by the Spanish Empire for more than 300 years. During this time, Catholicism became the dominant religion, and Manila became the western hub of trans-Pacific trade. In 1896, the Philippine Revolution began, which then became entwined with the 1898 Spanish–American War. Spain ceded the territory to the United States, while Filipino revolutionaries declared the First Philippine Republic. The ensuing Philippine–American War ended with the United States establishing control over the territory, which they maintained until the Japanese invasion of the islands during World War II. Following liberation, the Philippines became independent in 1946. Since then, the unitary sovereign state has often had a tumultuous experience with democracy, which included the overthrow of a decades-long dictatorship by a nonviolent revolution. The Philippines is an emerging market and a newly industrialized country whose economy is transitioning from being agriculture centered to services and manufacturing centered. It is a founding member of the United Nations, World Trade Organization, ASEAN, the Asia-Pacific Economic Cooperation forum, and the East Asia Summit. The location of the Philippines as an island country on the Pacific Ring of Fire that is close to the equator makes it prone to earthquakes and typhoons. The country has a variety of natural resources and is home to a globally significant level of biodiversity.\""
      ]
     },
     "execution_count": 3,
     "metadata": {},
     "output_type": "execute_result"
    }
   ],
   "source": [
    "import pandas as pd\n",
    "clcy = pd.read_csv(\"ClCy-186.csv\")\n",
    "clcy = clcy.drop('Unnamed: 0', axis=1)\n",
    "clcy['Abstract'][146]"
   ]
  },
  {
   "cell_type": "code",
   "execution_count": 4,
   "id": "11781ebb-ef2b-4169-9c7b-fa9fbc9e9e17",
   "metadata": {},
   "outputs": [
    {
     "data": {
      "text/html": [
       "<div>\n",
       "<style scoped>\n",
       "    .dataframe tbody tr th:only-of-type {\n",
       "        vertical-align: middle;\n",
       "    }\n",
       "\n",
       "    .dataframe tbody tr th {\n",
       "        vertical-align: top;\n",
       "    }\n",
       "\n",
       "    .dataframe thead th {\n",
       "        text-align: right;\n",
       "    }\n",
       "</style>\n",
       "<table border=\"1\" class=\"dataframe\">\n",
       "  <thead>\n",
       "    <tr style=\"text-align: right;\">\n",
       "      <th></th>\n",
       "      <th>Entity</th>\n",
       "      <th>Label</th>\n",
       "      <th>Abstract</th>\n",
       "      <th>Subjects</th>\n",
       "      <th>GPT-Triples-Raw</th>\n",
       "      <th>GPT-Triples</th>\n",
       "      <th>GPT</th>\n",
       "    </tr>\n",
       "  </thead>\n",
       "  <tbody>\n",
       "    <tr>\n",
       "      <th>0</th>\n",
       "      <td>http://yago-knowledge.org/resource/David_Bowie</td>\n",
       "      <td>David Bowie</td>\n",
       "      <td>David Robert Jones (8 January 1947 – 10 Januar...</td>\n",
       "      <td>David_Bowie</td>\n",
       "      <td>@prefix ex: &lt;http://example.com/&gt; .\\n@prefix r...</td>\n",
       "      <td>[[rdflib.term.URIRef('http://yago-knowledge.or...</td>\n",
       "      <td>[['David Bowie', 'type', 'Person'], ['David Bo...</td>\n",
       "    </tr>\n",
       "    <tr>\n",
       "      <th>1</th>\n",
       "      <td>http://yago-knowledge.org/resource/Kanye_West</td>\n",
       "      <td>Kanye West</td>\n",
       "      <td>Ye (/jeɪ/ YAY; born Kanye Omari West /ˈkɑːnjeɪ...</td>\n",
       "      <td>Kanye_West</td>\n",
       "      <td>@prefix ex: &lt;http://example.com/&gt; .\\n@prefix r...</td>\n",
       "      <td>[[rdflib.term.URIRef('http://yago-knowledge.or...</td>\n",
       "      <td>[['Kanye West', 'type', 'Person'], ['Kanye Wes...</td>\n",
       "    </tr>\n",
       "    <tr>\n",
       "      <th>2</th>\n",
       "      <td>http://yago-knowledge.org/resource/Eminem</td>\n",
       "      <td>Eminem</td>\n",
       "      <td>Marshall Bruce Mathers III (born October 17, 1...</td>\n",
       "      <td>Eminem</td>\n",
       "      <td>@prefix ex: &lt;http://example.com/&gt; .\\n@prefix r...</td>\n",
       "      <td>[[rdflib.term.URIRef('http://yago-knowledge.or...</td>\n",
       "      <td>[['Eminem', 'type', 'Person'], ['Eminem', 'nam...</td>\n",
       "    </tr>\n",
       "    <tr>\n",
       "      <th>3</th>\n",
       "      <td>http://yago-knowledge.org/resource/Jennifer_An...</td>\n",
       "      <td>Jennifer Aniston</td>\n",
       "      <td>Jennifer Joanna Aniston (born February 11, 196...</td>\n",
       "      <td>Jennifer_Aniston</td>\n",
       "      <td>```\\n@prefix ex: &lt;http://example.com/&gt; .\\n@pre...</td>\n",
       "      <td>[[rdflib.term.URIRef('http://yago-knowledge.or...</td>\n",
       "      <td>[['Jennifer Aniston', 'type', 'Person'], ['Jen...</td>\n",
       "    </tr>\n",
       "    <tr>\n",
       "      <th>4</th>\n",
       "      <td>http://yago-knowledge.org/resource/George_W._Bush</td>\n",
       "      <td>George W. Bush</td>\n",
       "      <td>George Walker Bush (born July 6, 1946) is an A...</td>\n",
       "      <td>George_W._Bush</td>\n",
       "      <td>@prefix ex: &lt;http://example.com/&gt; .\\n@prefix x...</td>\n",
       "      <td>[[rdflib.term.URIRef('http://yago-knowledge.or...</td>\n",
       "      <td>[['George W. Bush', 'type', 'Person'], ['Georg...</td>\n",
       "    </tr>\n",
       "    <tr>\n",
       "      <th>...</th>\n",
       "      <td>...</td>\n",
       "      <td>...</td>\n",
       "      <td>...</td>\n",
       "      <td>...</td>\n",
       "      <td>...</td>\n",
       "      <td>...</td>\n",
       "      <td>...</td>\n",
       "    </tr>\n",
       "    <tr>\n",
       "      <th>179</th>\n",
       "      <td>http://yago-knowledge.org/resource/Nancy_Pelosi</td>\n",
       "      <td>Nancy Pelosi</td>\n",
       "      <td>Nancy Patricia Pelosi (/pəˈloʊsi/; née D'Alesa...</td>\n",
       "      <td>Nancy_Pelosi</td>\n",
       "      <td>@prefix ex: &lt;http://example.com/&gt; .\\n\\nex:Nanc...</td>\n",
       "      <td>[[rdflib.term.URIRef('http://yago-knowledge.or...</td>\n",
       "      <td>[['Nancy Pelosi', 'type', 'Person'], ['Nancy P...</td>\n",
       "    </tr>\n",
       "    <tr>\n",
       "      <th>180</th>\n",
       "      <td>http://yago-knowledge.org/resource/Andhra_Pradesh</td>\n",
       "      <td>Andhra Pradesh</td>\n",
       "      <td>Andhra Pradesh (English: /ˌɑːndrə prəˈdɛʃ/, Te...</td>\n",
       "      <td>Andhra_Pradesh</td>\n",
       "      <td>@prefix ex: &lt;http://example.com/&gt; .\\n\\nex:Andh...</td>\n",
       "      <td>[[rdflib.term.URIRef('http://yago-knowledge.or...</td>\n",
       "      <td>[['Andhra Pradesh', 'type', 'State'], ['Andhra...</td>\n",
       "    </tr>\n",
       "    <tr>\n",
       "      <th>181</th>\n",
       "      <td>http://yago-knowledge.org/resource/Maharashtra</td>\n",
       "      <td>Maharashtra</td>\n",
       "      <td>Maharashtra (/məhɑːˈrɑːʃtrə/; Marathi: [məhara...</td>\n",
       "      <td>Maharashtra</td>\n",
       "      <td>@prefix ex: &lt;http://example.com/&gt; .\\n@prefix r...</td>\n",
       "      <td>[[rdflib.term.URIRef('http://yago-knowledge.or...</td>\n",
       "      <td>[['Maharashtra', 'type', 'State'], ['Maharasht...</td>\n",
       "    </tr>\n",
       "    <tr>\n",
       "      <th>182</th>\n",
       "      <td>http://yago-knowledge.org/resource/Paris_Saint...</td>\n",
       "      <td>Paris Saint-Germain F.C.</td>\n",
       "      <td>Paris Saint-Germain Football Club (French pron...</td>\n",
       "      <td>Paris_Saint-Germain_F.C.</td>\n",
       "      <td>@prefix ex: &lt;http://example.com/&gt; .\\n\\nex:Pari...</td>\n",
       "      <td>[[rdflib.term.URIRef('http://yago-knowledge.or...</td>\n",
       "      <td>[['Paris Saint-Germain F.C.', 'type', 'Footbal...</td>\n",
       "    </tr>\n",
       "    <tr>\n",
       "      <th>183</th>\n",
       "      <td>http://yago-knowledge.org/resource/Uttar_Pradesh</td>\n",
       "      <td>Uttar Pradesh</td>\n",
       "      <td>Uttar Pradesh (/ˌʊtər prəˈdɛʃ/; Hindi: [ˈʊtːəɾ...</td>\n",
       "      <td>Uttar_Pradesh</td>\n",
       "      <td>@prefix ex: &lt;http://example.com/&gt; .\\n@prefix r...</td>\n",
       "      <td>[[rdflib.term.URIRef('http://yago-knowledge.or...</td>\n",
       "      <td>[['Uttar Pradesh', 'type', 'State'], ['Uttar P...</td>\n",
       "    </tr>\n",
       "  </tbody>\n",
       "</table>\n",
       "<p>184 rows × 7 columns</p>\n",
       "</div>"
      ],
      "text/plain": [
       "                                                Entity   \n",
       "0       http://yago-knowledge.org/resource/David_Bowie  \\\n",
       "1        http://yago-knowledge.org/resource/Kanye_West   \n",
       "2            http://yago-knowledge.org/resource/Eminem   \n",
       "3    http://yago-knowledge.org/resource/Jennifer_An...   \n",
       "4    http://yago-knowledge.org/resource/George_W._Bush   \n",
       "..                                                 ...   \n",
       "179    http://yago-knowledge.org/resource/Nancy_Pelosi   \n",
       "180  http://yago-knowledge.org/resource/Andhra_Pradesh   \n",
       "181     http://yago-knowledge.org/resource/Maharashtra   \n",
       "182  http://yago-knowledge.org/resource/Paris_Saint...   \n",
       "183   http://yago-knowledge.org/resource/Uttar_Pradesh   \n",
       "\n",
       "                        Label   \n",
       "0                 David Bowie  \\\n",
       "1                  Kanye West   \n",
       "2                      Eminem   \n",
       "3            Jennifer Aniston   \n",
       "4              George W. Bush   \n",
       "..                        ...   \n",
       "179              Nancy Pelosi   \n",
       "180            Andhra Pradesh   \n",
       "181               Maharashtra   \n",
       "182  Paris Saint-Germain F.C.   \n",
       "183             Uttar Pradesh   \n",
       "\n",
       "                                              Abstract   \n",
       "0    David Robert Jones (8 January 1947 – 10 Januar...  \\\n",
       "1    Ye (/jeɪ/ YAY; born Kanye Omari West /ˈkɑːnjeɪ...   \n",
       "2    Marshall Bruce Mathers III (born October 17, 1...   \n",
       "3    Jennifer Joanna Aniston (born February 11, 196...   \n",
       "4    George Walker Bush (born July 6, 1946) is an A...   \n",
       "..                                                 ...   \n",
       "179  Nancy Patricia Pelosi (/pəˈloʊsi/; née D'Alesa...   \n",
       "180  Andhra Pradesh (English: /ˌɑːndrə prəˈdɛʃ/, Te...   \n",
       "181  Maharashtra (/məhɑːˈrɑːʃtrə/; Marathi: [məhara...   \n",
       "182  Paris Saint-Germain Football Club (French pron...   \n",
       "183  Uttar Pradesh (/ˌʊtər prəˈdɛʃ/; Hindi: [ˈʊtːəɾ...   \n",
       "\n",
       "                     Subjects   \n",
       "0                 David_Bowie  \\\n",
       "1                  Kanye_West   \n",
       "2                      Eminem   \n",
       "3            Jennifer_Aniston   \n",
       "4              George_W._Bush   \n",
       "..                        ...   \n",
       "179              Nancy_Pelosi   \n",
       "180            Andhra_Pradesh   \n",
       "181               Maharashtra   \n",
       "182  Paris_Saint-Germain_F.C.   \n",
       "183             Uttar_Pradesh   \n",
       "\n",
       "                                       GPT-Triples-Raw   \n",
       "0    @prefix ex: <http://example.com/> .\\n@prefix r...  \\\n",
       "1    @prefix ex: <http://example.com/> .\\n@prefix r...   \n",
       "2    @prefix ex: <http://example.com/> .\\n@prefix r...   \n",
       "3    ```\\n@prefix ex: <http://example.com/> .\\n@pre...   \n",
       "4    @prefix ex: <http://example.com/> .\\n@prefix x...   \n",
       "..                                                 ...   \n",
       "179  @prefix ex: <http://example.com/> .\\n\\nex:Nanc...   \n",
       "180  @prefix ex: <http://example.com/> .\\n\\nex:Andh...   \n",
       "181  @prefix ex: <http://example.com/> .\\n@prefix r...   \n",
       "182  @prefix ex: <http://example.com/> .\\n\\nex:Pari...   \n",
       "183  @prefix ex: <http://example.com/> .\\n@prefix r...   \n",
       "\n",
       "                                           GPT-Triples   \n",
       "0    [[rdflib.term.URIRef('http://yago-knowledge.or...  \\\n",
       "1    [[rdflib.term.URIRef('http://yago-knowledge.or...   \n",
       "2    [[rdflib.term.URIRef('http://yago-knowledge.or...   \n",
       "3    [[rdflib.term.URIRef('http://yago-knowledge.or...   \n",
       "4    [[rdflib.term.URIRef('http://yago-knowledge.or...   \n",
       "..                                                 ...   \n",
       "179  [[rdflib.term.URIRef('http://yago-knowledge.or...   \n",
       "180  [[rdflib.term.URIRef('http://yago-knowledge.or...   \n",
       "181  [[rdflib.term.URIRef('http://yago-knowledge.or...   \n",
       "182  [[rdflib.term.URIRef('http://yago-knowledge.or...   \n",
       "183  [[rdflib.term.URIRef('http://yago-knowledge.or...   \n",
       "\n",
       "                                                   GPT  \n",
       "0    [['David Bowie', 'type', 'Person'], ['David Bo...  \n",
       "1    [['Kanye West', 'type', 'Person'], ['Kanye Wes...  \n",
       "2    [['Eminem', 'type', 'Person'], ['Eminem', 'nam...  \n",
       "3    [['Jennifer Aniston', 'type', 'Person'], ['Jen...  \n",
       "4    [['George W. Bush', 'type', 'Person'], ['Georg...  \n",
       "..                                                 ...  \n",
       "179  [['Nancy Pelosi', 'type', 'Person'], ['Nancy P...  \n",
       "180  [['Andhra Pradesh', 'type', 'State'], ['Andhra...  \n",
       "181  [['Maharashtra', 'type', 'State'], ['Maharasht...  \n",
       "182  [['Paris Saint-Germain F.C.', 'type', 'Footbal...  \n",
       "183  [['Uttar Pradesh', 'type', 'State'], ['Uttar P...  \n",
       "\n",
       "[184 rows x 7 columns]"
      ]
     },
     "execution_count": 4,
     "metadata": {},
     "output_type": "execute_result"
    }
   ],
   "source": [
    "import pandas as pd\n",
    "gpt = pd.read_csv(\"chatGPT-186.csv\")\n",
    "gpt = gpt.drop('Unnamed: 0', axis=1)\n",
    "gpt"
   ]
  },
  {
   "cell_type": "code",
   "execution_count": 5,
   "id": "c29f6422-5f8c-4f9f-a435-237709fdb20b",
   "metadata": {},
   "outputs": [
    {
     "data": {
      "text/plain": [
       "[146, 8, 109, 123, 147, 3, 52, 118, 125, 71]"
      ]
     },
     "execution_count": 5,
     "metadata": {},
     "output_type": "execute_result"
    }
   ],
   "source": [
    "import random \n",
    "random.seed(10)\n",
    "randomlist = random.sample(range(0, 183), 10)\n",
    "randomlist"
   ]
  },
  {
   "cell_type": "code",
   "execution_count": 37,
   "id": "460b1b4e-a609-4881-8f19-69b52544df2e",
   "metadata": {},
   "outputs": [
    {
     "data": {
      "text/plain": [
       "[['Ryan Reynolds', 'type', 'Actor'],\n",
       " ['Ryan Reynolds', 'birthDate', ['\"1976-10-23\"', 'xsd:date']],\n",
       " ['Ryan Reynolds', 'citizenship', 'Canadian-American'],\n",
       " ['Ryan Reynolds', 'totalBoxOfficeGross', ['\"$5 billion\"', 'xsd:string']],\n",
       " ['Ryan Reynolds', 'career', 'Hillside'],\n",
       " ['Ryan Reynolds', 'career', 'Two_Guys_and_a_Girl'],\n",
       " ['Ryan Reynolds', 'career', \"National_Lampoon's_Van_Wilder\"],\n",
       " ['Ryan Reynolds', 'career', 'Waiting'],\n",
       " ['Ryan Reynolds', 'career', 'The_Proposal'],\n",
       " ['Ryan Reynolds', 'career', 'Buried'],\n",
       " ['Ryan Reynolds', 'career', 'Woman_in_Gold'],\n",
       " ['Ryan Reynolds', 'career', 'Life'],\n",
       " ['Ryan Reynolds', 'career', 'Blade_Trinity'],\n",
       " ['Ryan Reynolds', 'career', 'Green_Lantern'],\n",
       " ['Ryan Reynolds', 'career', '6_Underground'],\n",
       " ['Ryan Reynolds', 'career', 'Free_Guy'],\n",
       " ['Ryan Reynolds', 'career', 'The_Croods'],\n",
       " ['Ryan Reynolds', 'career', 'Turbo'],\n",
       " ['Ryan Reynolds', 'career', 'Pokémon_Detective_Pikachu'],\n",
       " ['Ryan Reynolds', 'career', 'Deadpool'],\n",
       " ['Ryan Reynolds', 'career', 'Deadpool_2'],\n",
       " ['Ryan Reynolds', 'award', 'Sexiest_Man_Alive'],\n",
       " ['Ryan Reynolds', 'award', 'Hollywood_Walk_of_Fame'],\n",
       " ['Ryan Reynolds', 'ownership', 'Wrexham_AFC']]"
      ]
     },
     "execution_count": 37,
     "metadata": {},
     "output_type": "execute_result"
    }
   ],
   "source": [
    "import ast \n",
    "ast.literal_eval((gpt['GPT'][randomlist[6]]))"
   ]
  },
  {
   "cell_type": "code",
   "execution_count": 7,
   "id": "c3453996-d8d7-4a4f-a314-b185594943e4",
   "metadata": {},
   "outputs": [
    {
     "data": {
      "text/html": [
       "<div>\n",
       "<style scoped>\n",
       "    .dataframe tbody tr th:only-of-type {\n",
       "        vertical-align: middle;\n",
       "    }\n",
       "\n",
       "    .dataframe tbody tr th {\n",
       "        vertical-align: top;\n",
       "    }\n",
       "\n",
       "    .dataframe thead th {\n",
       "        text-align: right;\n",
       "    }\n",
       "</style>\n",
       "<table border=\"1\" class=\"dataframe\">\n",
       "  <thead>\n",
       "    <tr style=\"text-align: right;\">\n",
       "      <th></th>\n",
       "      <th>Entity</th>\n",
       "      <th>Chat-GPT</th>\n",
       "      <th>Stanford</th>\n",
       "      <th>ClauCy</th>\n",
       "    </tr>\n",
       "  </thead>\n",
       "  <tbody>\n",
       "    <tr>\n",
       "      <th>0</th>\n",
       "      <td>Philippines</td>\n",
       "      <td>[[Philippines, type, Country], [Philippines, l...</td>\n",
       "      <td>[[countryIn, Southeast_Asia], [republicOf, Phi...</td>\n",
       "      <td>[[isIn, western_Pacific_Ocean], [boundedBy, So...</td>\n",
       "    </tr>\n",
       "    <tr>\n",
       "      <th>1</th>\n",
       "      <td>Heath Ledger</td>\n",
       "      <td>[[Heath Ledger, type, Actor], [Heath Ledger, n...</td>\n",
       "      <td>[[type, Australian_actor], [type, actor], [con...</td>\n",
       "      <td>[[april, April], [received, nominations], [pla...</td>\n",
       "    </tr>\n",
       "    <tr>\n",
       "      <th>2</th>\n",
       "      <td>Olivia Wilde</td>\n",
       "      <td>[[Olivia Wilde, type, Person], [Olivia Wilde, ...</td>\n",
       "      <td>[[starredOn, medical_drama_television_series],...</td>\n",
       "      <td>[[type, /ˈkoʊbərn/_KOH-bərn], [played, Hadley]...</td>\n",
       "    </tr>\n",
       "    <tr>\n",
       "      <th>3</th>\n",
       "      <td>Chris Evans (actor)</td>\n",
       "      <td>[[Chris Evans (actor), type, Actor], [Chris Ev...</td>\n",
       "      <td>[[began, career], [including, appearances], [i...</td>\n",
       "      <td>[[type, American_actor], [began, career], [gai...</td>\n",
       "    </tr>\n",
       "    <tr>\n",
       "      <th>4</th>\n",
       "      <td>Chelsea F.C.</td>\n",
       "      <td>[[Chelsea F.C., type, FootballClub], [Chelsea ...</td>\n",
       "      <td>[[isIn, based_Fulham], [play, their_home_games...</td>\n",
       "      <td>[[type, English_professional_football_club], [...</td>\n",
       "    </tr>\n",
       "    <tr>\n",
       "      <th>5</th>\n",
       "      <td>Jennifer Aniston</td>\n",
       "      <td>[[Jennifer Aniston, type, Person], [Jennifer A...</td>\n",
       "      <td>[[awardsIncluding, accolades], [awardsIncludin...</td>\n",
       "      <td>[[type, film_producer], [type, American_actres...</td>\n",
       "    </tr>\n",
       "    <tr>\n",
       "      <th>6</th>\n",
       "      <td>Ryan Reynolds</td>\n",
       "      <td>[[Ryan Reynolds, type, Actor], [Ryan Reynolds,...</td>\n",
       "      <td>[[continuedIn, his_career], [starredIn, teen_s...</td>\n",
       "      <td>[[type, Canadian-American_actor], [began, care...</td>\n",
       "    </tr>\n",
       "    <tr>\n",
       "      <th>7</th>\n",
       "      <td>Australia</td>\n",
       "      <td>[[Australia, type, SovereignCountry], [Austral...</td>\n",
       "      <td>[[consistingOf, mainland], [mainlandOf, contin...</td>\n",
       "      <td>[[type, officially_the_Commonwealth], [type, l...</td>\n",
       "    </tr>\n",
       "    <tr>\n",
       "      <th>8</th>\n",
       "      <td>Leonardo DiCaprio</td>\n",
       "      <td>[[Leonardo DiCaprio, type, foaf:Person], [Leon...</td>\n",
       "      <td>[[knownIn, leading_man], [knownIn, biopics], [...</td>\n",
       "      <td>[[mentionedIn, his_work], [actorIn, leading_ma...</td>\n",
       "    </tr>\n",
       "    <tr>\n",
       "      <th>9</th>\n",
       "      <td>Grey's Anatomy</td>\n",
       "      <td>[[Grey's Anatomy, type, TV_Series], [Grey's An...</td>\n",
       "      <td>[[type, American_medical_drama_television_seri...</td>\n",
       "      <td>[[type, American_medical_drama_television_seri...</td>\n",
       "    </tr>\n",
       "  </tbody>\n",
       "</table>\n",
       "</div>"
      ],
      "text/plain": [
       "                Entity                                           Chat-GPT   \n",
       "0          Philippines  [[Philippines, type, Country], [Philippines, l...  \\\n",
       "1         Heath Ledger  [[Heath Ledger, type, Actor], [Heath Ledger, n...   \n",
       "2         Olivia Wilde  [[Olivia Wilde, type, Person], [Olivia Wilde, ...   \n",
       "3  Chris Evans (actor)  [[Chris Evans (actor), type, Actor], [Chris Ev...   \n",
       "4         Chelsea F.C.  [[Chelsea F.C., type, FootballClub], [Chelsea ...   \n",
       "5     Jennifer Aniston  [[Jennifer Aniston, type, Person], [Jennifer A...   \n",
       "6        Ryan Reynolds  [[Ryan Reynolds, type, Actor], [Ryan Reynolds,...   \n",
       "7            Australia  [[Australia, type, SovereignCountry], [Austral...   \n",
       "8    Leonardo DiCaprio  [[Leonardo DiCaprio, type, foaf:Person], [Leon...   \n",
       "9       Grey's Anatomy  [[Grey's Anatomy, type, TV_Series], [Grey's An...   \n",
       "\n",
       "                                            Stanford   \n",
       "0  [[countryIn, Southeast_Asia], [republicOf, Phi...  \\\n",
       "1  [[type, Australian_actor], [type, actor], [con...   \n",
       "2  [[starredOn, medical_drama_television_series],...   \n",
       "3  [[began, career], [including, appearances], [i...   \n",
       "4  [[isIn, based_Fulham], [play, their_home_games...   \n",
       "5  [[awardsIncluding, accolades], [awardsIncludin...   \n",
       "6  [[continuedIn, his_career], [starredIn, teen_s...   \n",
       "7  [[consistingOf, mainland], [mainlandOf, contin...   \n",
       "8  [[knownIn, leading_man], [knownIn, biopics], [...   \n",
       "9  [[type, American_medical_drama_television_seri...   \n",
       "\n",
       "                                              ClauCy  \n",
       "0  [[isIn, western_Pacific_Ocean], [boundedBy, So...  \n",
       "1  [[april, April], [received, nominations], [pla...  \n",
       "2  [[type, /ˈkoʊbərn/_KOH-bərn], [played, Hadley]...  \n",
       "3  [[type, American_actor], [began, career], [gai...  \n",
       "4  [[type, English_professional_football_club], [...  \n",
       "5  [[type, film_producer], [type, American_actres...  \n",
       "6  [[type, Canadian-American_actor], [began, care...  \n",
       "7  [[type, officially_the_Commonwealth], [type, l...  \n",
       "8  [[mentionedIn, his_work], [actorIn, leading_ma...  \n",
       "9  [[type, American_medical_drama_television_seri...  "
      ]
     },
     "execution_count": 7,
     "metadata": {},
     "output_type": "execute_result"
    }
   ],
   "source": [
    "data = []\n",
    "for i in randomlist:\n",
    "    data.append({'Entity': stanford['Label'][i], 'Chat-GPT':ast.literal_eval((gpt['GPT'][i])), 'Stanford': ast.literal_eval((stanford['Stanford'][i])), 'ClauCy': ast.literal_eval((clcy['ClCy'][i])) })\n",
    "    \n",
    "    \n",
    "data = pd.DataFrame(data)\n",
    "data.to_csv('TripleQuality.csv')\n",
    "data\n"
   ]
  },
  {
   "cell_type": "code",
   "execution_count": null,
   "id": "dddf8023-f304-4812-a5ea-a2d6999d352a",
   "metadata": {},
   "outputs": [],
   "source": []
  },
  {
   "cell_type": "code",
   "execution_count": 39,
   "id": "ca84458f-f342-4da7-a4b0-67e9cff2c4ba",
   "metadata": {
    "scrolled": true,
    "tags": []
   },
   "outputs": [
    {
     "name": "stdout",
     "output_type": "stream",
     "text": [
      "37 46 13\n",
      "21 39 8\n",
      "10 18 4\n",
      "24 43 12\n",
      "21 65 7\n",
      "28 69 23\n",
      "24 21 5\n",
      "84 108 25\n",
      "39 95 18\n",
      "35 81 8\n",
      "585\n",
      "\n",
      "['Philippines', 'type', 'Country']\n",
      "['Philippines', 'label', 'Philippines@en']\n",
      "['Philippines', 'comment', 'The_Philippines_is_an_archipelagic_country_in_Southeast_Asia.@en']\n",
      "['Philippines', 'officialName', 'Republic_of_the_Philippines@en']\n",
      "['Philippines', 'consistsOf', 'Luzon,']\n",
      "['Philippines', 'consistsOf', 'Visayas,']\n",
      "['Philippines', 'consistsOf', 'Mindanao']\n",
      "['Philippines', 'boundedBy', 'SouthChinaSea,']\n",
      "['Philippines', 'boundedBy', 'PhilippineSea,']\n",
      "['Philippines', 'boundedBy', 'CelebesSea']\n",
      "['Philippines', 'sharesMaritimeBordersWith', 'Taiwan,']\n",
      "['Philippines', 'sharesMaritimeBordersWith', 'Japan,']\n",
      "['Philippines', 'sharesMaritimeBordersWith', 'Palau,']\n",
      "['Philippines', 'sharesMaritimeBordersWith', 'Indonesia,']\n",
      "['Philippines', 'sharesMaritimeBordersWith', 'Malaysia,']\n",
      "['Philippines', 'sharesMaritimeBordersWith', 'Vietnam,']\n",
      "['Philippines', 'sharesMaritimeBordersWith', 'China']\n",
      "['Philippines', 'capital', 'Manila']\n",
      "['Philippines', 'largestCity', 'QuezonCity']\n",
      "['Philippines', 'population', ['\"109000000\"', 'xsd:integer']]\n",
      "['Philippines', 'area', ['\"300000\"', 'xsd:integer']]\n",
      "['Philippines', 'ethnicities', 'Negritos,_Austronesian_peoples@en']\n",
      "['Philippines', 'religions', 'Catholicism,_Animism,_Hinduism,_Islam@en']\n",
      "['Philippines', 'historicalEvent', 'SpanishColonization,']\n",
      "['Philippines', 'historicalEvent', 'PhilippineRevolution,']\n",
      "['Philippines', 'historicalEvent', 'PhilippineAmericanWar,']\n",
      "['Philippines', 'historicalEvent', 'JapaneseInvasion,']\n",
      "['Philippines', 'historicalEvent', 'Independence']\n",
      "['Philippines', 'economicStatus', 'Emerging_market,_Newly_industrialized_country@en']\n",
      "['Philippines', 'membership', 'UnitedNations,']\n",
      "['Philippines', 'membership', 'WorldTradeOrganization,']\n",
      "['Philippines', 'membership', 'ASEAN,']\n",
      "['Philippines', 'membership', 'AsiaPacificEconomicCooperation,']\n",
      "['Philippines', 'membership', 'EastAsiaSummit']\n",
      "['Philippines', 'locatedOn', 'PacificRingOfFire,']\n",
      "['Philippines', 'locatedOn', 'Equator']\n",
      "['Philippines', 'naturalResources', 'Biodiversity@en']\n",
      "\n",
      "['Heath Ledger', 'type', 'Actor']\n",
      "['Heath Ledger', 'name', 'Heath_Andrew_Ledger']\n",
      "['Heath Ledger', 'birthDate', ['\"1979-04-04\"', 'xsd:date']]\n",
      "['Heath Ledger', 'deathDate', ['\"2008-01-22\"', 'xsd:date']]\n",
      "['Heath Ledger', 'occupation', 'Actor;_Music_video_director']\n",
      "['Heath Ledger', 'work', '10_Things_I_Hate_About_You']\n",
      "['Heath Ledger', 'work', 'The_Patriot']\n",
      "['Heath Ledger', 'work', \"A_Knight's_Tale\"]\n",
      "['Heath Ledger', 'work', \"Monster's_Ball\"]\n",
      "['Heath Ledger', 'work', 'Lords_of_Dogtown']\n",
      "['Heath Ledger', 'work', 'Brokeback_Mountain']\n",
      "['Heath Ledger', 'work', 'Candy']\n",
      "['Heath Ledger', 'work', \"I'm_Not_There\"]\n",
      "['Heath Ledger', 'work', 'The_Dark_Knight']\n",
      "['Heath Ledger', 'work', 'The_Imaginarium_of_Doctor_Parnassus']\n",
      "['Heath Ledger', 'award', 'BAFTA_Award']\n",
      "['Heath Ledger', 'award', 'Screen_Actors_Guild_Award']\n",
      "['Heath Ledger', 'award', 'Golden_Globe_Award']\n",
      "['Heath Ledger', 'award', 'Academy_Award']\n",
      "['Heath Ledger', 'award', 'Independent_Spirit_Robert_Altman_Award']\n",
      "['Heath Ledger', 'causeOfDeath', 'Accidental_overdose_of_medications']\n",
      "\n",
      "['Olivia Wilde', 'type', 'Person']\n",
      "['Olivia Wilde', 'profession', 'actress,_filmmaker']\n",
      "['Olivia Wilde', 'played', 'Remy_Hadley']\n",
      "['Olivia Wilde', 'appearedIn', 'Tron_Legacy,']\n",
      "['Olivia Wilde', 'appearedIn', 'Cowboys_and_Aliens,']\n",
      "['Olivia Wilde', 'appearedIn', 'The_Incredible_Burt_Wonderstone,']\n",
      "['Olivia Wilde', 'appearedIn', 'The_Lazarus_Effect']\n",
      "['Olivia Wilde', 'madeBroadwayDebut', '2017']\n",
      "['Olivia Wilde', 'directed', 'Booksmart,']\n",
      "['Olivia Wilde', 'directed', 'Dont_Worry_Darling']\n",
      "\n",
      "['Chris Evans (actor)', 'type', 'Actor']\n",
      "['Chris Evans (actor)', 'name', 'Christopher_Robert_Evans']\n",
      "['Chris Evans (actor)', 'birthDate', ['\"1981-06-13\"', 'xsd:date']]\n",
      "['Chris Evans (actor)', 'career', 'Opposite_Sex']\n",
      "['Chris Evans (actor)', 'career', 'Not_Another_Teen_Movie']\n",
      "['Chris Evans (actor)', 'career', 'Fantastic_Four']\n",
      "['Chris Evans (actor)', 'career', 'Fantastic_Four_Rise_of_the_Silver_Surfer']\n",
      "['Chris Evans (actor)', 'career', 'TMNT']\n",
      "['Chris Evans (actor)', 'career', 'Scott_Pilgrim_vs_the_World']\n",
      "['Chris Evans (actor)', 'career', 'Snowpiercer']\n",
      "['Chris Evans (actor)', 'career', 'Captain_America_The_First_Avenger']\n",
      "['Chris Evans (actor)', 'career', 'Avengers_Endgame']\n",
      "['Chris Evans (actor)', 'career', 'Gifted']\n",
      "['Chris Evans (actor)', 'career', 'Knives_Out']\n",
      "['Chris Evans (actor)', 'career', 'Defending_Jacob']\n",
      "['Chris Evans (actor)', 'career', 'Before_We_Go']\n",
      "['Chris Evans (actor)', 'career', 'Lobby_Hero']\n",
      "['Chris Evans (actor)', 'role', 'Human_Torch']\n",
      "['Chris Evans (actor)', 'role', 'Steve_Rogers_Captain_America']\n",
      "['Chris Evans (actor)', 'award', 'Drama_League_Award_nomination']\n",
      "['Chris Evans (actor)', 'hasOccupation', 'Actor']\n",
      "['Chris Evans (actor)', 'hasOccupation', 'Director']\n",
      "['Chris Evans (actor)', 'hasOccupation', 'Producer']\n",
      "['Chris Evans (actor)', 'hasOccupation', 'Broadway_Actor']\n",
      "\n",
      "['Chelsea F.C.', 'type', 'FootballClub']\n",
      "['Chelsea F.C.', 'name', 'Chelsea_Football_Club']\n",
      "['Chelsea F.C.', 'location', 'Fulham,_West_London']\n",
      "['Chelsea F.C.', 'foundedYear', ['\"1905\"', 'xsd:gYear']]\n",
      "['Chelsea F.C.', 'homeStadium', 'Stamford_Bridge']\n",
      "['Chelsea F.C.', 'league', 'Premier_League']\n",
      "['Chelsea F.C.', 'leagueDivision', 'top_division']\n",
      "['Chelsea F.C.', 'honour', 'LeagueChampionship']\n",
      "['Chelsea F.C.', 'honour', 'FACup']\n",
      "['Chelsea F.C.', 'honour', 'CupWinnersCup']\n",
      "['Chelsea F.C.', 'honour', 'ClubWorldCup']\n",
      "['Chelsea F.C.', 'honour', 'ChampionsLeague']\n",
      "['Chelsea F.C.', 'honour', 'CommunityShield']\n",
      "['Chelsea F.C.', 'honour', 'EuropaLeague']\n",
      "['Chelsea F.C.', 'honour', 'LeagueCup']\n",
      "['Chelsea F.C.', 'honour', 'SuperCup']\n",
      "['Chelsea F.C.', 'rivalry', 'Arsenal']\n",
      "['Chelsea F.C.', 'rivalry', 'TottenhamHotspur']\n",
      "['Chelsea F.C.', 'rivalry', 'LeedsUnited']\n",
      "['Chelsea F.C.', 'clubValue', ['\"2.39 billion\"', 'xsd:decimal']]\n",
      "['Chelsea F.C.', 'earnings', ['\"493.1 million\"', 'xsd:decimal']]\n",
      "\n",
      "['Jennifer Aniston', 'type', 'Person']\n",
      "['Jennifer Aniston', 'birthDate', ['\"1969-02-11\"', 'xsd:date']]\n",
      "['Jennifer Aniston', 'netWorth', ['\"$300 million\"', 'xsd:string']]\n",
      "['Jennifer Aniston', 'boxOfficeGross', ['\"$1.6 billion\"', 'xsd:string']]\n",
      "['Jennifer Aniston', 'hasOccupation', ['\"actress\"', 'xsd:string']]\n",
      "['Jennifer Aniston', 'hasOccupation', ['\"film producer\"', 'xsd:string']]\n",
      "['Jennifer Aniston', 'parent', 'John_Aniston']\n",
      "['Jennifer Aniston', 'parent', 'Nancy_Dow']\n",
      "['Jennifer Aniston', 'award', ['\"Primetime Emmy Award\"', 'xsd:string']]\n",
      "['Jennifer Aniston', 'award', ['\"Golden Globe Award\"', 'xsd:string']]\n",
      "['Jennifer Aniston', 'award', ['\"Screen Actors Guild Awards\"', 'xsd:string']]\n",
      "['Jennifer Aniston', 'award', ['\"Hollywood Walk of Fame star\"', 'xsd:string']]\n",
      "['Jennifer Aniston', 'company', 'Echo_Films']\n",
      "['Jennifer Aniston', 'work', 'Friends']\n",
      "['Jennifer Aniston', 'work', 'Bruce_Almighty']\n",
      "['Jennifer Aniston', 'work', 'The_Break-Up']\n",
      "['Jennifer Aniston', 'work', 'Marley_&_Me']\n",
      "['Jennifer Aniston', 'work', 'Just_Go_with_It']\n",
      "['Jennifer Aniston', 'work', 'Horrible_Bosses']\n",
      "['Jennifer Aniston', 'work', \"We're_the_Millers\"]\n",
      "['Jennifer Aniston', 'work', 'Office_Space']\n",
      "['Jennifer Aniston', 'work', 'The_Good_Girl']\n",
      "['Jennifer Aniston', 'work', 'Friends_with_Money']\n",
      "['Jennifer Aniston', 'work', 'Cake']\n",
      "['Jennifer Aniston', 'work', \"Dumplin'\"]\n",
      "['Jennifer Aniston', 'work', 'The_Morning_Show']\n",
      "['Jennifer Aniston', 'spouse', 'Brad_Pitt']\n",
      "['Jennifer Aniston', 'spouse', 'Justin_Theroux']\n",
      "\n",
      "['Ryan Reynolds', 'type', 'Actor']\n",
      "['Ryan Reynolds', 'birthDate', ['\"1976-10-23\"', 'xsd:date']]\n",
      "['Ryan Reynolds', 'citizenship', 'Canadian-American']\n",
      "['Ryan Reynolds', 'totalBoxOfficeGross', ['\"$5 billion\"', 'xsd:string']]\n",
      "['Ryan Reynolds', 'career', 'Hillside']\n",
      "['Ryan Reynolds', 'career', 'Two_Guys_and_a_Girl']\n",
      "['Ryan Reynolds', 'career', \"National_Lampoon's_Van_Wilder\"]\n",
      "['Ryan Reynolds', 'career', 'Waiting']\n",
      "['Ryan Reynolds', 'career', 'The_Proposal']\n",
      "['Ryan Reynolds', 'career', 'Buried']\n",
      "['Ryan Reynolds', 'career', 'Woman_in_Gold']\n",
      "['Ryan Reynolds', 'career', 'Life']\n",
      "['Ryan Reynolds', 'career', 'Blade_Trinity']\n",
      "['Ryan Reynolds', 'career', 'Green_Lantern']\n",
      "['Ryan Reynolds', 'career', '6_Underground']\n",
      "['Ryan Reynolds', 'career', 'Free_Guy']\n",
      "['Ryan Reynolds', 'career', 'The_Croods']\n",
      "['Ryan Reynolds', 'career', 'Turbo']\n",
      "['Ryan Reynolds', 'career', 'Pokémon_Detective_Pikachu']\n",
      "['Ryan Reynolds', 'career', 'Deadpool']\n",
      "['Ryan Reynolds', 'career', 'Deadpool_2']\n",
      "['Ryan Reynolds', 'award', 'Sexiest_Man_Alive']\n",
      "['Ryan Reynolds', 'award', 'Hollywood_Walk_of_Fame']\n",
      "['Ryan Reynolds', 'ownership', 'Wrexham_AFC']\n",
      "\n",
      "['Australia', 'type', 'SovereignCountry']\n",
      "['Australia', 'officialName', ['\"Commonwealth of Australia\"', 'xsd:string']]\n",
      "['Australia', 'comprises', 'AustralianContinent,']\n",
      "['Australia', 'comprises', 'Tasmania,']\n",
      "['Australia', 'comprises', 'SmallerIslands']\n",
      "['Australia', 'area', ['\"7,617,930\"', 'xsd:integer']]\n",
      "['Australia', 'areaUnit', ['\"square kilometres\"', 'xsd:string']]\n",
      "['Australia', 'largestByAreaIn', 'Oceania']\n",
      "['Australia', 'largestByAreaIn', 'World']\n",
      "['Australia', 'superlative', ['\"oldest\"', 'xsd:string']]\n",
      "['Australia', 'superlative', ['\"flattest\"', 'xsd:string']]\n",
      "['Australia', 'superlative', ['\"driest\"', 'xsd:string']]\n",
      "['Australia', 'soilFertility', 'LeastFertileSoils']\n",
      "['Australia', 'megadiverse', 'MegadiverseCountry']\n",
      "['Australia', 'varietyOf', 'Landscapes']\n",
      "['Australia', 'varietyOf', 'Climates']\n",
      "['Australia', 'desert', 'CentralDesert']\n",
      "['Australia', 'rainforest', 'NortheastRainforest']\n",
      "['Australia', 'mountainRange', 'SoutheastMountainRange']\n",
      "['Australia', 'ancestor', 'AboriginalAustralians']\n",
      "['Australia', 'arrivalTime', ['\"approximately 65,000 years ago\"', 'xsd:string']]\n",
      "['Australia', 'arrivalMethod', ['\"sea\"', 'xsd:string']]\n",
      "['Australia', 'settled', 'AustralianContinent']\n",
      "['Australia', 'languageGroup', ['\"250\"', 'xsd:integer']]\n",
      "['Australia', 'languageGroupType', ['\"distinct\"', 'xsd:string']]\n",
      "['Australia', 'continuingTraditions', 'ArtisticTraditions']\n",
      "['Australia', 'continuingTraditions', 'ReligiousTraditions']\n",
      "['Australia', 'writtenHistory', 'EuropeanExploration']\n",
      "['Australia', 'firstKnownEuropean', ['\"Willem Janszoon\"', 'xsd:string']]\n",
      "['Australia', 'firstEuropeanArrivalTime', ['\"1606\"', 'xsd:string']]\n",
      "['Australia', 'mapped', 'EastCoast']\n",
      "['Australia', 'claimed', 'EastCoast']\n",
      "['Australia', 'established', 'NewSouthWales']\n",
      "['Australia', 'establishmentTime', ['\"1788\"', 'xsd:string']]\n",
      "['Australia', 'population', ['\"26 million\"', 'xsd:string']]\n",
      "['Australia', 'highlyUrbanised', ['true']]\n",
      "['Australia', 'concentratedOn', 'EasternSeaboard']\n",
      "['Australia', 'capital', 'Canberra']\n",
      "['Australia', 'mostPopulousCity', 'Sydney']\n",
      "['Australia', 'financialCentre', 'Sydney']\n",
      "['Australia', 'secondLargestCity', 'Melbourne']\n",
      "['Australia', 'thirdLargestCity', 'Brisbane']\n",
      "['Australia', 'fourthLargestCity', 'Perth']\n",
      "['Australia', 'fifthLargestCity', 'Adelaide']\n",
      "['Australia', 'shapedDemography', 'Immigration']\n",
      "['Australia', 'immigrantPopulation', ['\"30%\"', 'xsd:string']]\n",
      "['Australia', 'overseasBornPopulation', ['\"almost half\"', 'xsd:string']]\n",
      "['Australia', 'abundantResources', ['true']]\n",
      "['Australia', 'wellDevelopedTradeRelations', ['true']]\n",
      "['Australia', 'crucialTo', 'Economy']\n",
      "['Australia', 'generatesIncomeFrom', 'Services']\n",
      "['Australia', 'generatesIncomeFrom', 'MiningExports']\n",
      "['Australia', 'generatesIncomeFrom', 'Banking']\n",
      "['Australia', 'generatesIncomeFrom', 'Manufacturing']\n",
      "['Australia', 'generatesIncomeFrom', 'Agriculture']\n",
      "['Australia', 'generatesIncomeFrom', 'InternationalEducation']\n",
      "['Australia', 'highlyDeveloped', ['true']]\n",
      "['Australia', 'highIncomeEconomy', ['true']]\n",
      "['Australia', 'economyRank', ['\"14\"', 'xsd:integer']]\n",
      "['Australia', 'perCapitaIncomeRank', ['\"9\"', 'xsd:integer']]\n",
      "['Australia', 'hDIrank', ['\"5\"', 'xsd:integer']]\n",
      "['Australia', 'regionalPower', ['true']]\n",
      "['Australia', 'militaryExpenditureRank', ['\"13\"', 'xsd:integer']]\n",
      "['Australia', 'qualityOfLifeRank', ['\"highest\"', 'xsd:string']]\n",
      "['Australia', 'democracyRank', ['\"highest\"', 'xsd:string']]\n",
      "['Australia', 'healthRank', ['\"highest\"', 'xsd:string']]\n",
      "['Australia', 'educationRank', ['\"highest\"', 'xsd:string']]\n",
      "['Australia', 'economicFreedomRank', ['\"highest\"', 'xsd:string']]\n",
      "['Australia', 'civilLibertiesRank', ['\"highest\"', 'xsd:string']]\n",
      "['Australia', 'safetyRank', ['\"highest\"', 'xsd:string']]\n",
      "['Australia', 'politicalRightsRank', ['\"highest\"', 'xsd:string']]\n",
      "['Australia', 'exceptionalCities', ['true']]\n",
      "['Australia', 'memberOf', 'UnitedNations']\n",
      "['Australia', 'memberOf', 'G20']\n",
      "['Australia', 'memberOf', 'OECD']\n",
      "['Australia', 'memberOf', 'WTO']\n",
      "['Australia', 'memberOf', 'ANZUS']\n",
      "['Australia', 'memberOf', 'AUKUS']\n",
      "['Australia', 'memberOf', 'FiveEyes']\n",
      "['Australia', 'memberOf', 'Quad']\n",
      "['Australia', 'memberOf', 'APEC']\n",
      "['Australia', 'memberOf', 'PacificIslandsForum']\n",
      "['Australia', 'memberOf', 'PacificCommunity']\n",
      "['Australia', 'memberOf', 'CommonwealthOfNations']\n",
      "\n",
      "['Leonardo DiCaprio', 'type', 'foaf:Person']\n",
      "['Leonardo DiCaprio', 'name', 'Leonardo_Wilhelm_DiCaprio']\n",
      "['Leonardo DiCaprio', 'birthDate', ['\"1974-11-11\"', 'xsd:date']]\n",
      "['Leonardo DiCaprio', 'birthPlace', 'Los_Angeles']\n",
      "['Leonardo DiCaprio', 'occupation', 'Actor,_film_producer']\n",
      "['Leonardo DiCaprio', 'primaryTopicOf', 'Leonardo_DiCaprio']\n",
      "['Leonardo DiCaprio', 'made', 'Appian_Way_Productions']\n",
      "['Leonardo DiCaprio', 'made', 'Greensburg']\n",
      "['Leonardo DiCaprio', 'made', 'Leonardo_DiCaprio_Foundation']\n",
      "['Leonardo DiCaprio', 'depiction', 'Leonardo_DiCaprio.jpg']\n",
      "['Leonardo DiCaprio', 'hasOccupation', 'dbp:occupation']\n",
      "['Leonardo DiCaprio', 'networth', ['\"7.2 billion\"', 'xsd:decimal']]\n",
      "['Leonardo DiCaprio', 'academicAdvisor', 'Martin_Scorsese']\n",
      "['Leonardo DiCaprio', 'award', 'Academy_Award']\n",
      "['Leonardo DiCaprio', 'award', 'BAFTA_Award']\n",
      "['Leonardo DiCaprio', 'award', 'Golden_Globe_Award']\n",
      "['Leonardo DiCaprio', 'receivedAward', 'Academy_Award']\n",
      "['Leonardo DiCaprio', 'receivedAward', 'BAFTA_Award']\n",
      "['Leonardo DiCaprio', 'receivedAward', 'Golden_Globe_Award']\n",
      "['Leonardo DiCaprio', 'collaboratedWith', 'Martin_Scorsese']\n",
      "['Leonardo DiCaprio', 'criticalAcclaim', \"What's_Eating_Gilbert_Grape\"]\n",
      "['Leonardo DiCaprio', 'criticalAcclaim', 'The_Revenant']\n",
      "['Leonardo DiCaprio', 'criticalAcclaim', 'The_Departed']\n",
      "['Leonardo DiCaprio', 'criticalAcclaim', 'Blood_Diamond']\n",
      "['Leonardo DiCaprio', 'criticalAcclaim', 'Revolutionary_Road']\n",
      "['Leonardo DiCaprio', 'film', \"This_Boy's_Life\"]\n",
      "['Leonardo DiCaprio', 'film', 'Romeo_+_Juliet']\n",
      "['Leonardo DiCaprio', 'film', 'Titanic']\n",
      "['Leonardo DiCaprio', 'film', 'Catch_Me_If_You_Can']\n",
      "['Leonardo DiCaprio', 'film', 'Gangs_of_New_York']\n",
      "['Leonardo DiCaprio', 'film', 'The_Aviator']\n",
      "['Leonardo DiCaprio', 'film', 'Django_Unchained']\n",
      "['Leonardo DiCaprio', 'film', 'The_Great_Gatsby']\n",
      "['Leonardo DiCaprio', 'film', 'The_Wolf_of_Wall_Street']\n",
      "['Leonardo DiCaprio', 'film', 'Once_Upon_a_Time_in_Hollywood']\n",
      "['Leonardo DiCaprio', 'Leonardo_DiCaprio_Foundation', 'rdf:type']\n",
      "['Leonardo DiCaprio', 'Leonardo_DiCaprio_Foundation', 'foaf:Organization']\n",
      "['Leonardo DiCaprio', 'name', 'Leonardo_DiCaprio_Foundation']\n",
      "['Leonardo DiCaprio', 'homepage', '<http://leonardodicaprio.org>']\n",
      "\n",
      "[\"Grey's Anatomy\", 'type', 'TV_Series']\n",
      "[\"Grey's Anatomy\", 'premiere_date', ['\"2005-03-27\"', 'xsd:date']]\n",
      "[\"Grey's Anatomy\", 'network', 'ABC']\n",
      "[\"Grey's Anatomy\", 'genre', 'medical_drama']\n",
      "[\"Grey's Anatomy\", 'location', 'Seattle,_Washington']\n",
      "[\"Grey's Anatomy\", 'filming_location', 'Los_Angeles,_California_Vancouver,_British_Columbia']\n",
      "[\"Grey's Anatomy\", 'created_by', 'Shonda_Rhimes']\n",
      "[\"Grey's Anatomy\", 'showrunner', 'Krista_Vernoff']\n",
      "[\"Grey's Anatomy\", 'executive_producer', 'Krista_Vernoff']\n",
      "[\"Grey's Anatomy\", 'main_character', 'Dr._Meredith_Grey']\n",
      "[\"Grey's Anatomy\", 'main_actor', 'Ellen_Pompeo']\n",
      "[\"Grey's Anatomy\", 'seasons', '19']\n",
      "[\"Grey's Anatomy\", 'episode_count', '388']\n",
      "[\"Grey's Anatomy\", 'longest_running', ['\"true\"']]\n",
      "[\"Grey's Anatomy\", 'spin_off', 'Station_19_Private_Practice']\n",
      "[\"Grey's Anatomy\", 'awards', 'Station_19_Private_Practice']\n",
      "[\"Grey's Anatomy\", 'rating', 'high']\n",
      "[\"Grey's Anatomy\", 'success', 'phenomenon']\n",
      "[\"Grey's Anatomy\", 'has_cast', 'Ellen_Pompeo']\n",
      "[\"Grey's Anatomy\", 'has_cast', 'Sandra_Oh']\n",
      "[\"Grey's Anatomy\", 'has_cast', 'Katherine_Heigl']\n",
      "[\"Grey's Anatomy\", 'has_cast', 'Justin_Chambers']\n",
      "[\"Grey's Anatomy\", 'has_cast', 'T_R_Knight']\n",
      "[\"Grey's Anatomy\", 'has_cast', 'Chandra_Wilson']\n",
      "[\"Grey's Anatomy\", 'has_cast', 'James_Pickens_Jr']\n",
      "[\"Grey's Anatomy\", 'has_cast', 'Isaiah_Washington']\n",
      "[\"Grey's Anatomy\", 'has_cast', 'Patrick_Dempsey']\n",
      "[\"Grey's Anatomy\", 'has_character', 'Dr._Meredith_Grey']\n",
      "[\"Grey's Anatomy\", 'has_location', 'Seattle_Washington']\n",
      "[\"Grey's Anatomy\", 'has_book', \"Gray's_Anatomy_book\"]\n",
      "[\"Grey's Anatomy\", 'has_medical_professional', 'Surgical_intern']\n",
      "[\"Grey's Anatomy\", 'has_medical_professional', 'Resident']\n",
      "[\"Grey's Anatomy\", 'has_medical_professional', 'Attending']\n",
      "[\"Grey's Anatomy\", 'has_season', 'season_19']\n",
      "[\"Grey's Anatomy\", 'has_event', 'Ellen_Pompeo_exit']\n",
      "\n"
     ]
    }
   ],
   "source": [
    "score = 0\n",
    "for e,gptt,stant,clcyt in data.values:\n",
    "    print(len(gptt), len(stant), len(clcyt))\n",
    "    score += len(stant)\n",
    "    #for gpt,stan,clcy in zip(gptt,stant,clcyt):\n",
    "        #print(gpt,stan,clcy)\n",
    "#for i in data['Stanford'][1]:\n",
    "    #for trip in i:\n",
    "    #print(i)\n",
    "print(score)\n",
    "print()\n",
    "for i in data['Chat-GPT']:\n",
    "    for j in i:\n",
    "    #for trip in i:\n",
    "        print(j)\n",
    "    print()"
   ]
  },
  {
   "cell_type": "code",
   "execution_count": 17,
   "id": "002fa412-cb34-4785-8f70-d07aaa82c0ea",
   "metadata": {
    "scrolled": true,
    "tags": []
   },
   "outputs": [
    {
     "name": "stdout",
     "output_type": "stream",
     "text": [
      "['Philippines', 'type', 'Country']\n"
     ]
    },
    {
     "name": "stdin",
     "output_type": "stream",
     "text": [
      "is it something? y\n"
     ]
    },
    {
     "name": "stdout",
     "output_type": "stream",
     "text": [
      "['Philippines', 'label', 'Philippines@en']\n"
     ]
    },
    {
     "name": "stdin",
     "output_type": "stream",
     "text": [
      "is it something? y\n"
     ]
    },
    {
     "name": "stdout",
     "output_type": "stream",
     "text": [
      "['Philippines', 'comment', 'The_Philippines_is_an_archipelagic_country_in_Southeast_Asia.@en']\n"
     ]
    },
    {
     "name": "stdin",
     "output_type": "stream",
     "text": [
      "is it something? y\n"
     ]
    },
    {
     "name": "stdout",
     "output_type": "stream",
     "text": [
      "['Philippines', 'officialName', 'Republic_of_the_Philippines@en']\n"
     ]
    },
    {
     "name": "stdin",
     "output_type": "stream",
     "text": [
      "is it something? y\n"
     ]
    },
    {
     "name": "stdout",
     "output_type": "stream",
     "text": [
      "['Philippines', 'consistsOf', 'Luzon,']\n"
     ]
    },
    {
     "name": "stdin",
     "output_type": "stream",
     "text": [
      "is it something? y\n"
     ]
    },
    {
     "name": "stdout",
     "output_type": "stream",
     "text": [
      "['Philippines', 'consistsOf', 'Visayas,']\n"
     ]
    },
    {
     "name": "stdin",
     "output_type": "stream",
     "text": [
      "is it something? y\n"
     ]
    },
    {
     "name": "stdout",
     "output_type": "stream",
     "text": [
      "['Philippines', 'consistsOf', 'Mindanao']\n"
     ]
    },
    {
     "name": "stdin",
     "output_type": "stream",
     "text": [
      "is it something? y\n"
     ]
    },
    {
     "name": "stdout",
     "output_type": "stream",
     "text": [
      "['Philippines', 'boundedBy', 'SouthChinaSea,']\n"
     ]
    },
    {
     "name": "stdin",
     "output_type": "stream",
     "text": [
      "is it something? y\n"
     ]
    },
    {
     "name": "stdout",
     "output_type": "stream",
     "text": [
      "['Philippines', 'boundedBy', 'PhilippineSea,']\n"
     ]
    },
    {
     "name": "stdin",
     "output_type": "stream",
     "text": [
      "is it something? y\n"
     ]
    },
    {
     "name": "stdout",
     "output_type": "stream",
     "text": [
      "['Philippines', 'boundedBy', 'CelebesSea']\n"
     ]
    },
    {
     "name": "stdin",
     "output_type": "stream",
     "text": [
      "is it something? y\n"
     ]
    },
    {
     "name": "stdout",
     "output_type": "stream",
     "text": [
      "['Philippines', 'sharesMaritimeBordersWith', 'Taiwan,']\n"
     ]
    },
    {
     "name": "stdin",
     "output_type": "stream",
     "text": [
      "is it something? y\n"
     ]
    },
    {
     "name": "stdout",
     "output_type": "stream",
     "text": [
      "['Philippines', 'sharesMaritimeBordersWith', 'Japan,']\n"
     ]
    },
    {
     "name": "stdin",
     "output_type": "stream",
     "text": [
      "is it something? y\n"
     ]
    },
    {
     "name": "stdout",
     "output_type": "stream",
     "text": [
      "['Philippines', 'sharesMaritimeBordersWith', 'Palau,']\n"
     ]
    },
    {
     "name": "stdin",
     "output_type": "stream",
     "text": [
      "is it something? y\n"
     ]
    },
    {
     "name": "stdout",
     "output_type": "stream",
     "text": [
      "['Philippines', 'sharesMaritimeBordersWith', 'Indonesia,']\n"
     ]
    },
    {
     "name": "stdin",
     "output_type": "stream",
     "text": [
      "is it something? y\n"
     ]
    },
    {
     "name": "stdout",
     "output_type": "stream",
     "text": [
      "['Philippines', 'sharesMaritimeBordersWith', 'Malaysia,']\n"
     ]
    },
    {
     "name": "stdin",
     "output_type": "stream",
     "text": [
      "is it something? y\n"
     ]
    },
    {
     "name": "stdout",
     "output_type": "stream",
     "text": [
      "['Philippines', 'sharesMaritimeBordersWith', 'Vietnam,']\n"
     ]
    },
    {
     "name": "stdin",
     "output_type": "stream",
     "text": [
      "is it something? y\n"
     ]
    },
    {
     "name": "stdout",
     "output_type": "stream",
     "text": [
      "['Philippines', 'sharesMaritimeBordersWith', 'China']\n"
     ]
    },
    {
     "name": "stdin",
     "output_type": "stream",
     "text": [
      "is it something? y\n"
     ]
    },
    {
     "name": "stdout",
     "output_type": "stream",
     "text": [
      "['Philippines', 'capital', 'Manila']\n"
     ]
    },
    {
     "name": "stdin",
     "output_type": "stream",
     "text": [
      "is it something? y\n"
     ]
    },
    {
     "name": "stdout",
     "output_type": "stream",
     "text": [
      "['Philippines', 'largestCity', 'QuezonCity']\n"
     ]
    },
    {
     "name": "stdin",
     "output_type": "stream",
     "text": [
      "is it something? y\n"
     ]
    },
    {
     "name": "stdout",
     "output_type": "stream",
     "text": [
      "['Philippines', 'population', ['\"109000000\"', 'xsd:integer']]\n"
     ]
    },
    {
     "name": "stdin",
     "output_type": "stream",
     "text": [
      "is it something? y\n"
     ]
    },
    {
     "name": "stdout",
     "output_type": "stream",
     "text": [
      "['Philippines', 'area', ['\"300000\"', 'xsd:integer']]\n"
     ]
    },
    {
     "name": "stdin",
     "output_type": "stream",
     "text": [
      "is it something? y\n"
     ]
    },
    {
     "name": "stdout",
     "output_type": "stream",
     "text": [
      "['Philippines', 'ethnicities', 'Negritos,_Austronesian_peoples@en']\n"
     ]
    },
    {
     "name": "stdin",
     "output_type": "stream",
     "text": [
      "is it something? y\n"
     ]
    },
    {
     "name": "stdout",
     "output_type": "stream",
     "text": [
      "['Philippines', 'religions', 'Catholicism,_Animism,_Hinduism,_Islam@en']\n"
     ]
    },
    {
     "name": "stdin",
     "output_type": "stream",
     "text": [
      "is it something? y\n"
     ]
    },
    {
     "name": "stdout",
     "output_type": "stream",
     "text": [
      "['Philippines', 'historicalEvent', 'SpanishColonization,']\n"
     ]
    },
    {
     "name": "stdin",
     "output_type": "stream",
     "text": [
      "is it something? y\n"
     ]
    },
    {
     "name": "stdout",
     "output_type": "stream",
     "text": [
      "['Philippines', 'historicalEvent', 'PhilippineRevolution,']\n"
     ]
    },
    {
     "name": "stdin",
     "output_type": "stream",
     "text": [
      "is it something? y\n"
     ]
    },
    {
     "name": "stdout",
     "output_type": "stream",
     "text": [
      "['Philippines', 'historicalEvent', 'PhilippineAmericanWar,']\n"
     ]
    },
    {
     "name": "stdin",
     "output_type": "stream",
     "text": [
      "is it something? y\n"
     ]
    },
    {
     "name": "stdout",
     "output_type": "stream",
     "text": [
      "['Philippines', 'historicalEvent', 'JapaneseInvasion,']\n"
     ]
    },
    {
     "name": "stdin",
     "output_type": "stream",
     "text": [
      "is it something? y\n"
     ]
    },
    {
     "name": "stdout",
     "output_type": "stream",
     "text": [
      "['Philippines', 'historicalEvent', 'Independence']\n"
     ]
    },
    {
     "name": "stdin",
     "output_type": "stream",
     "text": [
      "is it something? y\n"
     ]
    },
    {
     "name": "stdout",
     "output_type": "stream",
     "text": [
      "['Philippines', 'economicStatus', 'Emerging_market,_Newly_industrialized_country@en']\n"
     ]
    },
    {
     "name": "stdin",
     "output_type": "stream",
     "text": [
      "is it something? y\n"
     ]
    },
    {
     "name": "stdout",
     "output_type": "stream",
     "text": [
      "['Philippines', 'membership', 'UnitedNations,']\n"
     ]
    },
    {
     "name": "stdin",
     "output_type": "stream",
     "text": [
      "is it something? y\n"
     ]
    },
    {
     "name": "stdout",
     "output_type": "stream",
     "text": [
      "['Philippines', 'membership', 'WorldTradeOrganization,']\n"
     ]
    },
    {
     "name": "stdin",
     "output_type": "stream",
     "text": [
      "is it something? y\n"
     ]
    },
    {
     "name": "stdout",
     "output_type": "stream",
     "text": [
      "['Philippines', 'membership', 'ASEAN,']\n"
     ]
    },
    {
     "name": "stdin",
     "output_type": "stream",
     "text": [
      "is it something? y\n"
     ]
    },
    {
     "name": "stdout",
     "output_type": "stream",
     "text": [
      "['Philippines', 'membership', 'AsiaPacificEconomicCooperation,']\n"
     ]
    },
    {
     "name": "stdin",
     "output_type": "stream",
     "text": [
      "is it something? y\n"
     ]
    },
    {
     "name": "stdout",
     "output_type": "stream",
     "text": [
      "['Philippines', 'membership', 'EastAsiaSummit']\n"
     ]
    },
    {
     "name": "stdin",
     "output_type": "stream",
     "text": [
      "is it something? y\n"
     ]
    },
    {
     "name": "stdout",
     "output_type": "stream",
     "text": [
      "['Philippines', 'locatedOn', 'PacificRingOfFire,']\n"
     ]
    },
    {
     "name": "stdin",
     "output_type": "stream",
     "text": [
      "is it something? y\n"
     ]
    },
    {
     "name": "stdout",
     "output_type": "stream",
     "text": [
      "['Philippines', 'locatedOn', 'Equator']\n"
     ]
    },
    {
     "name": "stdin",
     "output_type": "stream",
     "text": [
      "is it something? y\n"
     ]
    },
    {
     "name": "stdout",
     "output_type": "stream",
     "text": [
      "['Philippines', 'naturalResources', 'Biodiversity@en']\n"
     ]
    },
    {
     "name": "stdin",
     "output_type": "stream",
     "text": [
      "is it something? y\n"
     ]
    },
    {
     "name": "stdout",
     "output_type": "stream",
     "text": [
      "\n",
      "['Heath Ledger', 'type', 'Actor']\n"
     ]
    },
    {
     "name": "stdin",
     "output_type": "stream",
     "text": [
      "is it something? y\n"
     ]
    },
    {
     "name": "stdout",
     "output_type": "stream",
     "text": [
      "['Heath Ledger', 'name', 'Heath_Andrew_Ledger']\n"
     ]
    },
    {
     "name": "stdin",
     "output_type": "stream",
     "text": [
      "is it something? y\n"
     ]
    },
    {
     "name": "stdout",
     "output_type": "stream",
     "text": [
      "['Heath Ledger', 'birthDate', ['\"1979-04-04\"', 'xsd:date']]\n"
     ]
    },
    {
     "name": "stdin",
     "output_type": "stream",
     "text": [
      "is it something? y\n"
     ]
    },
    {
     "name": "stdout",
     "output_type": "stream",
     "text": [
      "['Heath Ledger', 'deathDate', ['\"2008-01-22\"', 'xsd:date']]\n"
     ]
    },
    {
     "name": "stdin",
     "output_type": "stream",
     "text": [
      "is it something? y\n"
     ]
    },
    {
     "name": "stdout",
     "output_type": "stream",
     "text": [
      "['Heath Ledger', 'occupation', 'Actor;_Music_video_director']\n"
     ]
    },
    {
     "name": "stdin",
     "output_type": "stream",
     "text": [
      "is it something? y\n"
     ]
    },
    {
     "name": "stdout",
     "output_type": "stream",
     "text": [
      "['Heath Ledger', 'work', '10_Things_I_Hate_About_You']\n"
     ]
    },
    {
     "name": "stdin",
     "output_type": "stream",
     "text": [
      "is it something? y\n"
     ]
    },
    {
     "name": "stdout",
     "output_type": "stream",
     "text": [
      "['Heath Ledger', 'work', 'The_Patriot']\n"
     ]
    },
    {
     "name": "stdin",
     "output_type": "stream",
     "text": [
      "is it something? y\n"
     ]
    },
    {
     "name": "stdout",
     "output_type": "stream",
     "text": [
      "['Heath Ledger', 'work', \"A_Knight's_Tale\"]\n"
     ]
    },
    {
     "name": "stdin",
     "output_type": "stream",
     "text": [
      "is it something? y\n"
     ]
    },
    {
     "name": "stdout",
     "output_type": "stream",
     "text": [
      "['Heath Ledger', 'work', \"Monster's_Ball\"]\n"
     ]
    },
    {
     "name": "stdin",
     "output_type": "stream",
     "text": [
      "is it something? y\n"
     ]
    },
    {
     "name": "stdout",
     "output_type": "stream",
     "text": [
      "['Heath Ledger', 'work', 'Lords_of_Dogtown']\n"
     ]
    },
    {
     "name": "stdin",
     "output_type": "stream",
     "text": [
      "is it something? y\n"
     ]
    },
    {
     "name": "stdout",
     "output_type": "stream",
     "text": [
      "['Heath Ledger', 'work', 'Brokeback_Mountain']\n"
     ]
    },
    {
     "name": "stdin",
     "output_type": "stream",
     "text": [
      "is it something? y\n"
     ]
    },
    {
     "name": "stdout",
     "output_type": "stream",
     "text": [
      "['Heath Ledger', 'work', 'Candy']\n"
     ]
    },
    {
     "name": "stdin",
     "output_type": "stream",
     "text": [
      "is it something? y\n"
     ]
    },
    {
     "name": "stdout",
     "output_type": "stream",
     "text": [
      "['Heath Ledger', 'work', \"I'm_Not_There\"]\n"
     ]
    },
    {
     "name": "stdin",
     "output_type": "stream",
     "text": [
      "is it something? y\n"
     ]
    },
    {
     "name": "stdout",
     "output_type": "stream",
     "text": [
      "['Heath Ledger', 'work', 'The_Dark_Knight']\n"
     ]
    },
    {
     "name": "stdin",
     "output_type": "stream",
     "text": [
      "is it something? y\n"
     ]
    },
    {
     "name": "stdout",
     "output_type": "stream",
     "text": [
      "['Heath Ledger', 'work', 'The_Imaginarium_of_Doctor_Parnassus']\n"
     ]
    },
    {
     "name": "stdin",
     "output_type": "stream",
     "text": [
      "is it something? y\n"
     ]
    },
    {
     "name": "stdout",
     "output_type": "stream",
     "text": [
      "['Heath Ledger', 'award', 'BAFTA_Award']\n"
     ]
    },
    {
     "name": "stdin",
     "output_type": "stream",
     "text": [
      "is it something? y\n"
     ]
    },
    {
     "name": "stdout",
     "output_type": "stream",
     "text": [
      "['Heath Ledger', 'award', 'Screen_Actors_Guild_Award']\n"
     ]
    },
    {
     "name": "stdin",
     "output_type": "stream",
     "text": [
      "is it something? y\n"
     ]
    },
    {
     "name": "stdout",
     "output_type": "stream",
     "text": [
      "['Heath Ledger', 'award', 'Golden_Globe_Award']\n"
     ]
    },
    {
     "name": "stdin",
     "output_type": "stream",
     "text": [
      "is it something? y\n"
     ]
    },
    {
     "name": "stdout",
     "output_type": "stream",
     "text": [
      "['Heath Ledger', 'award', 'Academy_Award']\n"
     ]
    },
    {
     "name": "stdin",
     "output_type": "stream",
     "text": [
      "is it something? y\n"
     ]
    },
    {
     "name": "stdout",
     "output_type": "stream",
     "text": [
      "['Heath Ledger', 'award', 'Independent_Spirit_Robert_Altman_Award']\n"
     ]
    },
    {
     "name": "stdin",
     "output_type": "stream",
     "text": [
      "is it something? y\n"
     ]
    },
    {
     "name": "stdout",
     "output_type": "stream",
     "text": [
      "['Heath Ledger', 'causeOfDeath', 'Accidental_overdose_of_medications']\n"
     ]
    },
    {
     "name": "stdin",
     "output_type": "stream",
     "text": [
      "is it something? y\n"
     ]
    },
    {
     "name": "stdout",
     "output_type": "stream",
     "text": [
      "\n",
      "['Olivia Wilde', 'type', 'Person']\n"
     ]
    },
    {
     "name": "stdin",
     "output_type": "stream",
     "text": [
      "is it something? y\n"
     ]
    },
    {
     "name": "stdout",
     "output_type": "stream",
     "text": [
      "['Olivia Wilde', 'profession', 'actress,_filmmaker']\n"
     ]
    },
    {
     "name": "stdin",
     "output_type": "stream",
     "text": [
      "is it something? y\n"
     ]
    },
    {
     "name": "stdout",
     "output_type": "stream",
     "text": [
      "['Olivia Wilde', 'played', 'Remy_Hadley']\n"
     ]
    },
    {
     "name": "stdin",
     "output_type": "stream",
     "text": [
      "is it something? y\n"
     ]
    },
    {
     "name": "stdout",
     "output_type": "stream",
     "text": [
      "['Olivia Wilde', 'appearedIn', 'Tron_Legacy,']\n"
     ]
    },
    {
     "name": "stdin",
     "output_type": "stream",
     "text": [
      "is it something? y\n"
     ]
    },
    {
     "name": "stdout",
     "output_type": "stream",
     "text": [
      "['Olivia Wilde', 'appearedIn', 'Cowboys_and_Aliens,']\n"
     ]
    },
    {
     "name": "stdin",
     "output_type": "stream",
     "text": [
      "is it something? y\n"
     ]
    },
    {
     "name": "stdout",
     "output_type": "stream",
     "text": [
      "['Olivia Wilde', 'appearedIn', 'The_Incredible_Burt_Wonderstone,']\n"
     ]
    },
    {
     "name": "stdin",
     "output_type": "stream",
     "text": [
      "is it something? y\n"
     ]
    },
    {
     "name": "stdout",
     "output_type": "stream",
     "text": [
      "['Olivia Wilde', 'appearedIn', 'The_Lazarus_Effect']\n"
     ]
    },
    {
     "name": "stdin",
     "output_type": "stream",
     "text": [
      "is it something? y\n"
     ]
    },
    {
     "name": "stdout",
     "output_type": "stream",
     "text": [
      "['Olivia Wilde', 'madeBroadwayDebut', '2017']\n"
     ]
    },
    {
     "name": "stdin",
     "output_type": "stream",
     "text": [
      "is it something? y\n"
     ]
    },
    {
     "name": "stdout",
     "output_type": "stream",
     "text": [
      "['Olivia Wilde', 'directed', 'Booksmart,']\n"
     ]
    },
    {
     "name": "stdin",
     "output_type": "stream",
     "text": [
      "is it something? y\n"
     ]
    },
    {
     "name": "stdout",
     "output_type": "stream",
     "text": [
      "['Olivia Wilde', 'directed', 'Dont_Worry_Darling']\n"
     ]
    },
    {
     "name": "stdin",
     "output_type": "stream",
     "text": [
      "is it something? y\n"
     ]
    },
    {
     "name": "stdout",
     "output_type": "stream",
     "text": [
      "\n",
      "['Chris Evans (actor)', 'type', 'Actor']\n"
     ]
    },
    {
     "name": "stdin",
     "output_type": "stream",
     "text": [
      "is it something? y\n"
     ]
    },
    {
     "name": "stdout",
     "output_type": "stream",
     "text": [
      "['Chris Evans (actor)', 'name', 'Christopher_Robert_Evans']\n"
     ]
    },
    {
     "name": "stdin",
     "output_type": "stream",
     "text": [
      "is it something? y\n"
     ]
    },
    {
     "name": "stdout",
     "output_type": "stream",
     "text": [
      "['Chris Evans (actor)', 'birthDate', ['\"1981-06-13\"', 'xsd:date']]\n"
     ]
    },
    {
     "name": "stdin",
     "output_type": "stream",
     "text": [
      "is it something? y\n"
     ]
    },
    {
     "name": "stdout",
     "output_type": "stream",
     "text": [
      "['Chris Evans (actor)', 'career', 'Opposite_Sex']\n"
     ]
    },
    {
     "name": "stdin",
     "output_type": "stream",
     "text": [
      "is it something? y\n"
     ]
    },
    {
     "name": "stdout",
     "output_type": "stream",
     "text": [
      "['Chris Evans (actor)', 'career', 'Not_Another_Teen_Movie']\n"
     ]
    },
    {
     "name": "stdin",
     "output_type": "stream",
     "text": [
      "is it something? y\n"
     ]
    },
    {
     "name": "stdout",
     "output_type": "stream",
     "text": [
      "['Chris Evans (actor)', 'career', 'Fantastic_Four']\n"
     ]
    },
    {
     "name": "stdin",
     "output_type": "stream",
     "text": [
      "is it something? y\n"
     ]
    },
    {
     "name": "stdout",
     "output_type": "stream",
     "text": [
      "['Chris Evans (actor)', 'career', 'Fantastic_Four_Rise_of_the_Silver_Surfer']\n"
     ]
    },
    {
     "name": "stdin",
     "output_type": "stream",
     "text": [
      "is it something? y\n"
     ]
    },
    {
     "name": "stdout",
     "output_type": "stream",
     "text": [
      "['Chris Evans (actor)', 'career', 'TMNT']\n"
     ]
    },
    {
     "name": "stdin",
     "output_type": "stream",
     "text": [
      "is it something? y\n"
     ]
    },
    {
     "name": "stdout",
     "output_type": "stream",
     "text": [
      "['Chris Evans (actor)', 'career', 'Scott_Pilgrim_vs_the_World']\n"
     ]
    },
    {
     "name": "stdin",
     "output_type": "stream",
     "text": [
      "is it something? y\n"
     ]
    },
    {
     "name": "stdout",
     "output_type": "stream",
     "text": [
      "['Chris Evans (actor)', 'career', 'Snowpiercer']\n"
     ]
    },
    {
     "name": "stdin",
     "output_type": "stream",
     "text": [
      "is it something? y\n"
     ]
    },
    {
     "name": "stdout",
     "output_type": "stream",
     "text": [
      "['Chris Evans (actor)', 'career', 'Captain_America_The_First_Avenger']\n"
     ]
    },
    {
     "name": "stdin",
     "output_type": "stream",
     "text": [
      "is it something? y\n"
     ]
    },
    {
     "name": "stdout",
     "output_type": "stream",
     "text": [
      "['Chris Evans (actor)', 'career', 'Avengers_Endgame']\n"
     ]
    },
    {
     "name": "stdin",
     "output_type": "stream",
     "text": [
      "is it something? y\n"
     ]
    },
    {
     "name": "stdout",
     "output_type": "stream",
     "text": [
      "['Chris Evans (actor)', 'career', 'Gifted']\n"
     ]
    },
    {
     "name": "stdin",
     "output_type": "stream",
     "text": [
      "is it something? y\n"
     ]
    },
    {
     "name": "stdout",
     "output_type": "stream",
     "text": [
      "['Chris Evans (actor)', 'career', 'Knives_Out']\n"
     ]
    },
    {
     "name": "stdin",
     "output_type": "stream",
     "text": [
      "is it something? y\n"
     ]
    },
    {
     "name": "stdout",
     "output_type": "stream",
     "text": [
      "['Chris Evans (actor)', 'career', 'Defending_Jacob']\n"
     ]
    },
    {
     "name": "stdin",
     "output_type": "stream",
     "text": [
      "is it something? y\n"
     ]
    },
    {
     "name": "stdout",
     "output_type": "stream",
     "text": [
      "['Chris Evans (actor)', 'career', 'Before_We_Go']\n"
     ]
    },
    {
     "name": "stdin",
     "output_type": "stream",
     "text": [
      "is it something? y\n"
     ]
    },
    {
     "name": "stdout",
     "output_type": "stream",
     "text": [
      "['Chris Evans (actor)', 'career', 'Lobby_Hero']\n"
     ]
    },
    {
     "name": "stdin",
     "output_type": "stream",
     "text": [
      "is it something? y\n"
     ]
    },
    {
     "name": "stdout",
     "output_type": "stream",
     "text": [
      "['Chris Evans (actor)', 'role', 'Human_Torch']\n"
     ]
    },
    {
     "name": "stdin",
     "output_type": "stream",
     "text": [
      "is it something? y\n"
     ]
    },
    {
     "name": "stdout",
     "output_type": "stream",
     "text": [
      "['Chris Evans (actor)', 'role', 'Steve_Rogers_Captain_America']\n"
     ]
    },
    {
     "name": "stdin",
     "output_type": "stream",
     "text": [
      "is it something? y\n"
     ]
    },
    {
     "name": "stdout",
     "output_type": "stream",
     "text": [
      "['Chris Evans (actor)', 'award', 'Drama_League_Award_nomination']\n"
     ]
    },
    {
     "name": "stdin",
     "output_type": "stream",
     "text": [
      "is it something? y\n"
     ]
    },
    {
     "name": "stdout",
     "output_type": "stream",
     "text": [
      "['Chris Evans (actor)', 'hasOccupation', 'Actor']\n"
     ]
    },
    {
     "name": "stdin",
     "output_type": "stream",
     "text": [
      "is it something? y\n"
     ]
    },
    {
     "name": "stdout",
     "output_type": "stream",
     "text": [
      "['Chris Evans (actor)', 'hasOccupation', 'Director']\n"
     ]
    },
    {
     "name": "stdin",
     "output_type": "stream",
     "text": [
      "is it something? y\n"
     ]
    },
    {
     "name": "stdout",
     "output_type": "stream",
     "text": [
      "['Chris Evans (actor)', 'hasOccupation', 'Producer']\n"
     ]
    },
    {
     "name": "stdin",
     "output_type": "stream",
     "text": [
      "is it something? y\n"
     ]
    },
    {
     "name": "stdout",
     "output_type": "stream",
     "text": [
      "['Chris Evans (actor)', 'hasOccupation', 'Broadway_Actor']\n"
     ]
    },
    {
     "name": "stdin",
     "output_type": "stream",
     "text": [
      "is it something? y\n"
     ]
    },
    {
     "name": "stdout",
     "output_type": "stream",
     "text": [
      "\n",
      "['Chelsea F.C.', 'type', 'FootballClub']\n"
     ]
    },
    {
     "name": "stdin",
     "output_type": "stream",
     "text": [
      "is it something? y\n"
     ]
    },
    {
     "name": "stdout",
     "output_type": "stream",
     "text": [
      "['Chelsea F.C.', 'name', 'Chelsea_Football_Club']\n"
     ]
    },
    {
     "name": "stdin",
     "output_type": "stream",
     "text": [
      "is it something? y\n"
     ]
    },
    {
     "name": "stdout",
     "output_type": "stream",
     "text": [
      "['Chelsea F.C.', 'location', 'Fulham,_West_London']\n"
     ]
    },
    {
     "name": "stdin",
     "output_type": "stream",
     "text": [
      "is it something? y\n"
     ]
    },
    {
     "name": "stdout",
     "output_type": "stream",
     "text": [
      "['Chelsea F.C.', 'foundedYear', ['\"1905\"', 'xsd:gYear']]\n"
     ]
    },
    {
     "name": "stdin",
     "output_type": "stream",
     "text": [
      "is it something? y\n"
     ]
    },
    {
     "name": "stdout",
     "output_type": "stream",
     "text": [
      "['Chelsea F.C.', 'homeStadium', 'Stamford_Bridge']\n"
     ]
    },
    {
     "name": "stdin",
     "output_type": "stream",
     "text": [
      "is it something? y\n"
     ]
    },
    {
     "name": "stdout",
     "output_type": "stream",
     "text": [
      "['Chelsea F.C.', 'league', 'Premier_League']\n"
     ]
    },
    {
     "name": "stdin",
     "output_type": "stream",
     "text": [
      "is it something? y\n"
     ]
    },
    {
     "name": "stdout",
     "output_type": "stream",
     "text": [
      "['Chelsea F.C.', 'leagueDivision', 'top_division']\n"
     ]
    },
    {
     "name": "stdin",
     "output_type": "stream",
     "text": [
      "is it something? y\n"
     ]
    },
    {
     "name": "stdout",
     "output_type": "stream",
     "text": [
      "['Chelsea F.C.', 'honour', 'LeagueChampionship']\n"
     ]
    },
    {
     "name": "stdin",
     "output_type": "stream",
     "text": [
      "is it something? y\n"
     ]
    },
    {
     "name": "stdout",
     "output_type": "stream",
     "text": [
      "['Chelsea F.C.', 'honour', 'FACup']\n"
     ]
    },
    {
     "name": "stdin",
     "output_type": "stream",
     "text": [
      "is it something? y\n"
     ]
    },
    {
     "name": "stdout",
     "output_type": "stream",
     "text": [
      "['Chelsea F.C.', 'honour', 'CupWinnersCup']\n"
     ]
    },
    {
     "name": "stdin",
     "output_type": "stream",
     "text": [
      "is it something? y\n"
     ]
    },
    {
     "name": "stdout",
     "output_type": "stream",
     "text": [
      "['Chelsea F.C.', 'honour', 'ClubWorldCup']\n"
     ]
    },
    {
     "name": "stdin",
     "output_type": "stream",
     "text": [
      "is it something? y\n"
     ]
    },
    {
     "name": "stdout",
     "output_type": "stream",
     "text": [
      "['Chelsea F.C.', 'honour', 'ChampionsLeague']\n"
     ]
    },
    {
     "name": "stdin",
     "output_type": "stream",
     "text": [
      "is it something? y\n"
     ]
    },
    {
     "name": "stdout",
     "output_type": "stream",
     "text": [
      "['Chelsea F.C.', 'honour', 'CommunityShield']\n"
     ]
    },
    {
     "name": "stdin",
     "output_type": "stream",
     "text": [
      "is it something? y\n"
     ]
    },
    {
     "name": "stdout",
     "output_type": "stream",
     "text": [
      "['Chelsea F.C.', 'honour', 'EuropaLeague']\n"
     ]
    },
    {
     "name": "stdin",
     "output_type": "stream",
     "text": [
      "is it something? y\n"
     ]
    },
    {
     "name": "stdout",
     "output_type": "stream",
     "text": [
      "['Chelsea F.C.', 'honour', 'LeagueCup']\n"
     ]
    },
    {
     "name": "stdin",
     "output_type": "stream",
     "text": [
      "is it something? y\n"
     ]
    },
    {
     "name": "stdout",
     "output_type": "stream",
     "text": [
      "['Chelsea F.C.', 'honour', 'SuperCup']\n"
     ]
    },
    {
     "name": "stdin",
     "output_type": "stream",
     "text": [
      "is it something? y\n"
     ]
    },
    {
     "name": "stdout",
     "output_type": "stream",
     "text": [
      "['Chelsea F.C.', 'rivalry', 'Arsenal']\n"
     ]
    },
    {
     "name": "stdin",
     "output_type": "stream",
     "text": [
      "is it something? y\n"
     ]
    },
    {
     "name": "stdout",
     "output_type": "stream",
     "text": [
      "['Chelsea F.C.', 'rivalry', 'TottenhamHotspur']\n"
     ]
    },
    {
     "name": "stdin",
     "output_type": "stream",
     "text": [
      "is it something? y\n"
     ]
    },
    {
     "name": "stdout",
     "output_type": "stream",
     "text": [
      "['Chelsea F.C.', 'rivalry', 'LeedsUnited']\n"
     ]
    },
    {
     "name": "stdin",
     "output_type": "stream",
     "text": [
      "is it something? y\n"
     ]
    },
    {
     "name": "stdout",
     "output_type": "stream",
     "text": [
      "['Chelsea F.C.', 'clubValue', ['\"2.39 billion\"', 'xsd:decimal']]\n"
     ]
    },
    {
     "name": "stdin",
     "output_type": "stream",
     "text": [
      "is it something? y\n"
     ]
    },
    {
     "name": "stdout",
     "output_type": "stream",
     "text": [
      "['Chelsea F.C.', 'earnings', ['\"493.1 million\"', 'xsd:decimal']]\n"
     ]
    },
    {
     "name": "stdin",
     "output_type": "stream",
     "text": [
      "is it something? y\n"
     ]
    },
    {
     "name": "stdout",
     "output_type": "stream",
     "text": [
      "\n",
      "['Jennifer Aniston', 'type', 'Person']\n"
     ]
    },
    {
     "name": "stdin",
     "output_type": "stream",
     "text": [
      "is it something? y\n"
     ]
    },
    {
     "name": "stdout",
     "output_type": "stream",
     "text": [
      "['Jennifer Aniston', 'birthDate', ['\"1969-02-11\"', 'xsd:date']]\n"
     ]
    },
    {
     "name": "stdin",
     "output_type": "stream",
     "text": [
      "is it something? y\n"
     ]
    },
    {
     "name": "stdout",
     "output_type": "stream",
     "text": [
      "['Jennifer Aniston', 'netWorth', ['\"$300 million\"', 'xsd:string']]\n"
     ]
    },
    {
     "name": "stdin",
     "output_type": "stream",
     "text": [
      "is it something? y\n"
     ]
    },
    {
     "name": "stdout",
     "output_type": "stream",
     "text": [
      "['Jennifer Aniston', 'boxOfficeGross', ['\"$1.6 billion\"', 'xsd:string']]\n"
     ]
    },
    {
     "name": "stdin",
     "output_type": "stream",
     "text": [
      "is it something? y\n"
     ]
    },
    {
     "name": "stdout",
     "output_type": "stream",
     "text": [
      "['Jennifer Aniston', 'hasOccupation', ['\"actress\"', 'xsd:string']]\n"
     ]
    },
    {
     "name": "stdin",
     "output_type": "stream",
     "text": [
      "is it something? y\n"
     ]
    },
    {
     "name": "stdout",
     "output_type": "stream",
     "text": [
      "['Jennifer Aniston', 'hasOccupation', ['\"film producer\"', 'xsd:string']]\n"
     ]
    },
    {
     "name": "stdin",
     "output_type": "stream",
     "text": [
      "is it something? y\n"
     ]
    },
    {
     "name": "stdout",
     "output_type": "stream",
     "text": [
      "['Jennifer Aniston', 'parent', 'John_Aniston']\n"
     ]
    },
    {
     "name": "stdin",
     "output_type": "stream",
     "text": [
      "is it something? y\n"
     ]
    },
    {
     "name": "stdout",
     "output_type": "stream",
     "text": [
      "['Jennifer Aniston', 'parent', 'Nancy_Dow']\n"
     ]
    },
    {
     "name": "stdin",
     "output_type": "stream",
     "text": [
      "is it something? y\n"
     ]
    },
    {
     "name": "stdout",
     "output_type": "stream",
     "text": [
      "['Jennifer Aniston', 'award', ['\"Primetime Emmy Award\"', 'xsd:string']]\n"
     ]
    },
    {
     "name": "stdin",
     "output_type": "stream",
     "text": [
      "is it something? y\n"
     ]
    },
    {
     "name": "stdout",
     "output_type": "stream",
     "text": [
      "['Jennifer Aniston', 'award', ['\"Golden Globe Award\"', 'xsd:string']]\n"
     ]
    },
    {
     "name": "stdin",
     "output_type": "stream",
     "text": [
      "is it something? y\n"
     ]
    },
    {
     "name": "stdout",
     "output_type": "stream",
     "text": [
      "['Jennifer Aniston', 'award', ['\"Screen Actors Guild Awards\"', 'xsd:string']]\n"
     ]
    },
    {
     "name": "stdin",
     "output_type": "stream",
     "text": [
      "is it something? y\n"
     ]
    },
    {
     "name": "stdout",
     "output_type": "stream",
     "text": [
      "['Jennifer Aniston', 'award', ['\"Hollywood Walk of Fame star\"', 'xsd:string']]\n"
     ]
    },
    {
     "name": "stdin",
     "output_type": "stream",
     "text": [
      "is it something? y\n"
     ]
    },
    {
     "name": "stdout",
     "output_type": "stream",
     "text": [
      "['Jennifer Aniston', 'company', 'Echo_Films']\n"
     ]
    },
    {
     "name": "stdin",
     "output_type": "stream",
     "text": [
      "is it something? y\n"
     ]
    },
    {
     "name": "stdout",
     "output_type": "stream",
     "text": [
      "['Jennifer Aniston', 'work', 'Friends']\n"
     ]
    },
    {
     "name": "stdin",
     "output_type": "stream",
     "text": [
      "is it something? y\n"
     ]
    },
    {
     "name": "stdout",
     "output_type": "stream",
     "text": [
      "['Jennifer Aniston', 'work', 'Bruce_Almighty']\n"
     ]
    },
    {
     "name": "stdin",
     "output_type": "stream",
     "text": [
      "is it something? y\n"
     ]
    },
    {
     "name": "stdout",
     "output_type": "stream",
     "text": [
      "['Jennifer Aniston', 'work', 'The_Break-Up']\n"
     ]
    },
    {
     "name": "stdin",
     "output_type": "stream",
     "text": [
      "is it something? y\n"
     ]
    },
    {
     "name": "stdout",
     "output_type": "stream",
     "text": [
      "['Jennifer Aniston', 'work', 'Marley_&_Me']\n"
     ]
    },
    {
     "name": "stdin",
     "output_type": "stream",
     "text": [
      "is it something? y\n"
     ]
    },
    {
     "name": "stdout",
     "output_type": "stream",
     "text": [
      "['Jennifer Aniston', 'work', 'Just_Go_with_It']\n"
     ]
    },
    {
     "name": "stdin",
     "output_type": "stream",
     "text": [
      "is it something? y\n"
     ]
    },
    {
     "name": "stdout",
     "output_type": "stream",
     "text": [
      "['Jennifer Aniston', 'work', 'Horrible_Bosses']\n"
     ]
    },
    {
     "name": "stdin",
     "output_type": "stream",
     "text": [
      "is it something? y\n"
     ]
    },
    {
     "name": "stdout",
     "output_type": "stream",
     "text": [
      "['Jennifer Aniston', 'work', \"We're_the_Millers\"]\n"
     ]
    },
    {
     "name": "stdin",
     "output_type": "stream",
     "text": [
      "is it something? y\n"
     ]
    },
    {
     "name": "stdout",
     "output_type": "stream",
     "text": [
      "['Jennifer Aniston', 'work', 'Office_Space']\n"
     ]
    },
    {
     "name": "stdin",
     "output_type": "stream",
     "text": [
      "is it something? y\n"
     ]
    },
    {
     "name": "stdout",
     "output_type": "stream",
     "text": [
      "['Jennifer Aniston', 'work', 'The_Good_Girl']\n"
     ]
    },
    {
     "name": "stdin",
     "output_type": "stream",
     "text": [
      "is it something? y\n"
     ]
    },
    {
     "name": "stdout",
     "output_type": "stream",
     "text": [
      "['Jennifer Aniston', 'work', 'Friends_with_Money']\n"
     ]
    },
    {
     "name": "stdin",
     "output_type": "stream",
     "text": [
      "is it something? y\n"
     ]
    },
    {
     "name": "stdout",
     "output_type": "stream",
     "text": [
      "['Jennifer Aniston', 'work', 'Cake']\n"
     ]
    },
    {
     "name": "stdin",
     "output_type": "stream",
     "text": [
      "is it something? y\n"
     ]
    },
    {
     "name": "stdout",
     "output_type": "stream",
     "text": [
      "['Jennifer Aniston', 'work', \"Dumplin'\"]\n"
     ]
    },
    {
     "name": "stdin",
     "output_type": "stream",
     "text": [
      "is it something? y\n"
     ]
    },
    {
     "name": "stdout",
     "output_type": "stream",
     "text": [
      "['Jennifer Aniston', 'work', 'The_Morning_Show']\n"
     ]
    },
    {
     "name": "stdin",
     "output_type": "stream",
     "text": [
      "is it something? y\n"
     ]
    },
    {
     "name": "stdout",
     "output_type": "stream",
     "text": [
      "['Jennifer Aniston', 'spouse', 'Brad_Pitt']\n"
     ]
    },
    {
     "name": "stdin",
     "output_type": "stream",
     "text": [
      "is it something? y\n"
     ]
    },
    {
     "name": "stdout",
     "output_type": "stream",
     "text": [
      "['Jennifer Aniston', 'spouse', 'Justin_Theroux']\n"
     ]
    },
    {
     "name": "stdin",
     "output_type": "stream",
     "text": [
      "is it something? y\n"
     ]
    },
    {
     "name": "stdout",
     "output_type": "stream",
     "text": [
      "\n",
      "['Ryan Reynolds', 'type', 'Actor']\n"
     ]
    },
    {
     "name": "stdin",
     "output_type": "stream",
     "text": [
      "is it something? y\n"
     ]
    },
    {
     "name": "stdout",
     "output_type": "stream",
     "text": [
      "['Ryan Reynolds', 'birthDate', ['\"1976-10-23\"', 'xsd:date']]\n"
     ]
    },
    {
     "name": "stdin",
     "output_type": "stream",
     "text": [
      "is it something? y\n"
     ]
    },
    {
     "name": "stdout",
     "output_type": "stream",
     "text": [
      "['Ryan Reynolds', 'citizenship', 'Canadian-American']\n"
     ]
    },
    {
     "name": "stdin",
     "output_type": "stream",
     "text": [
      "is it something? y\n"
     ]
    },
    {
     "name": "stdout",
     "output_type": "stream",
     "text": [
      "['Ryan Reynolds', 'totalBoxOfficeGross', ['\"$5 billion\"', 'xsd:string']]\n"
     ]
    },
    {
     "name": "stdin",
     "output_type": "stream",
     "text": [
      "is it something? y\n"
     ]
    },
    {
     "name": "stdout",
     "output_type": "stream",
     "text": [
      "['Ryan Reynolds', 'career', 'Hillside']\n"
     ]
    },
    {
     "name": "stdin",
     "output_type": "stream",
     "text": [
      "is it something? y\n"
     ]
    },
    {
     "name": "stdout",
     "output_type": "stream",
     "text": [
      "['Ryan Reynolds', 'career', 'Two_Guys_and_a_Girl']\n"
     ]
    },
    {
     "name": "stdin",
     "output_type": "stream",
     "text": [
      "is it something? y\n"
     ]
    },
    {
     "name": "stdout",
     "output_type": "stream",
     "text": [
      "['Ryan Reynolds', 'career', \"National_Lampoon's_Van_Wilder\"]\n"
     ]
    },
    {
     "name": "stdin",
     "output_type": "stream",
     "text": [
      "is it something? y\n"
     ]
    },
    {
     "name": "stdout",
     "output_type": "stream",
     "text": [
      "['Ryan Reynolds', 'career', 'Waiting']\n"
     ]
    },
    {
     "name": "stdin",
     "output_type": "stream",
     "text": [
      "is it something? y\n"
     ]
    },
    {
     "name": "stdout",
     "output_type": "stream",
     "text": [
      "['Ryan Reynolds', 'career', 'The_Proposal']\n"
     ]
    },
    {
     "name": "stdin",
     "output_type": "stream",
     "text": [
      "is it something? y\n"
     ]
    },
    {
     "name": "stdout",
     "output_type": "stream",
     "text": [
      "['Ryan Reynolds', 'career', 'Buried']\n"
     ]
    },
    {
     "name": "stdin",
     "output_type": "stream",
     "text": [
      "is it something? y\n"
     ]
    },
    {
     "name": "stdout",
     "output_type": "stream",
     "text": [
      "['Ryan Reynolds', 'career', 'Woman_in_Gold']\n"
     ]
    },
    {
     "name": "stdin",
     "output_type": "stream",
     "text": [
      "is it something? y\n"
     ]
    },
    {
     "name": "stdout",
     "output_type": "stream",
     "text": [
      "['Ryan Reynolds', 'career', 'Life']\n"
     ]
    },
    {
     "name": "stdin",
     "output_type": "stream",
     "text": [
      "is it something? y\n"
     ]
    },
    {
     "name": "stdout",
     "output_type": "stream",
     "text": [
      "['Ryan Reynolds', 'career', 'Blade_Trinity']\n"
     ]
    },
    {
     "name": "stdin",
     "output_type": "stream",
     "text": [
      "is it something? y\n"
     ]
    },
    {
     "name": "stdout",
     "output_type": "stream",
     "text": [
      "['Ryan Reynolds', 'career', 'Green_Lantern']\n"
     ]
    },
    {
     "name": "stdin",
     "output_type": "stream",
     "text": [
      "is it something? y\n"
     ]
    },
    {
     "name": "stdout",
     "output_type": "stream",
     "text": [
      "['Ryan Reynolds', 'career', '6_Underground']\n"
     ]
    },
    {
     "name": "stdin",
     "output_type": "stream",
     "text": [
      "is it something? y\n"
     ]
    },
    {
     "name": "stdout",
     "output_type": "stream",
     "text": [
      "['Ryan Reynolds', 'career', 'Free_Guy']\n"
     ]
    },
    {
     "name": "stdin",
     "output_type": "stream",
     "text": [
      "is it something? y\n"
     ]
    },
    {
     "name": "stdout",
     "output_type": "stream",
     "text": [
      "['Ryan Reynolds', 'career', 'The_Croods']\n"
     ]
    },
    {
     "name": "stdin",
     "output_type": "stream",
     "text": [
      "is it something? y\n"
     ]
    },
    {
     "name": "stdout",
     "output_type": "stream",
     "text": [
      "['Ryan Reynolds', 'career', 'Turbo']\n"
     ]
    },
    {
     "name": "stdin",
     "output_type": "stream",
     "text": [
      "is it something? y\n"
     ]
    },
    {
     "name": "stdout",
     "output_type": "stream",
     "text": [
      "['Ryan Reynolds', 'career', 'Pokémon_Detective_Pikachu']\n"
     ]
    },
    {
     "name": "stdin",
     "output_type": "stream",
     "text": [
      "is it something? y\n"
     ]
    },
    {
     "name": "stdout",
     "output_type": "stream",
     "text": [
      "['Ryan Reynolds', 'career', 'Deadpool']\n"
     ]
    },
    {
     "name": "stdin",
     "output_type": "stream",
     "text": [
      "is it something? y\n"
     ]
    },
    {
     "name": "stdout",
     "output_type": "stream",
     "text": [
      "['Ryan Reynolds', 'career', 'Deadpool_2']\n"
     ]
    },
    {
     "name": "stdin",
     "output_type": "stream",
     "text": [
      "is it something? y\n"
     ]
    },
    {
     "name": "stdout",
     "output_type": "stream",
     "text": [
      "['Ryan Reynolds', 'award', 'Sexiest_Man_Alive']\n"
     ]
    },
    {
     "name": "stdin",
     "output_type": "stream",
     "text": [
      "is it something? y\n"
     ]
    },
    {
     "name": "stdout",
     "output_type": "stream",
     "text": [
      "['Ryan Reynolds', 'award', 'Hollywood_Walk_of_Fame']\n"
     ]
    },
    {
     "name": "stdin",
     "output_type": "stream",
     "text": [
      "is it something? y\n"
     ]
    },
    {
     "name": "stdout",
     "output_type": "stream",
     "text": [
      "['Ryan Reynolds', 'ownership', 'Wrexham_AFC']\n"
     ]
    },
    {
     "name": "stdin",
     "output_type": "stream",
     "text": [
      "is it something? y\n"
     ]
    },
    {
     "name": "stdout",
     "output_type": "stream",
     "text": [
      "\n",
      "['Australia', 'type', 'SovereignCountry']\n"
     ]
    },
    {
     "name": "stdin",
     "output_type": "stream",
     "text": [
      "is it something? y\n"
     ]
    },
    {
     "name": "stdout",
     "output_type": "stream",
     "text": [
      "['Australia', 'officialName', ['\"Commonwealth of Australia\"', 'xsd:string']]\n"
     ]
    },
    {
     "name": "stdin",
     "output_type": "stream",
     "text": [
      "is it something? y\n"
     ]
    },
    {
     "name": "stdout",
     "output_type": "stream",
     "text": [
      "['Australia', 'comprises', 'AustralianContinent,']\n"
     ]
    },
    {
     "name": "stdin",
     "output_type": "stream",
     "text": [
      "is it something? y\n"
     ]
    },
    {
     "name": "stdout",
     "output_type": "stream",
     "text": [
      "['Australia', 'comprises', 'Tasmania,']\n"
     ]
    },
    {
     "name": "stdin",
     "output_type": "stream",
     "text": [
      "is it something? y\n"
     ]
    },
    {
     "name": "stdout",
     "output_type": "stream",
     "text": [
      "['Australia', 'comprises', 'SmallerIslands']\n"
     ]
    },
    {
     "name": "stdin",
     "output_type": "stream",
     "text": [
      "is it something? y\n"
     ]
    },
    {
     "name": "stdout",
     "output_type": "stream",
     "text": [
      "['Australia', 'area', ['\"7,617,930\"', 'xsd:integer']]\n"
     ]
    },
    {
     "name": "stdin",
     "output_type": "stream",
     "text": [
      "is it something? y\n"
     ]
    },
    {
     "name": "stdout",
     "output_type": "stream",
     "text": [
      "['Australia', 'areaUnit', ['\"square kilometres\"', 'xsd:string']]\n"
     ]
    },
    {
     "name": "stdin",
     "output_type": "stream",
     "text": [
      "is it something? n\n"
     ]
    },
    {
     "name": "stdout",
     "output_type": "stream",
     "text": [
      "['Australia', 'largestByAreaIn', 'Oceania']\n"
     ]
    },
    {
     "name": "stdin",
     "output_type": "stream",
     "text": [
      "is it something? y\n"
     ]
    },
    {
     "name": "stdout",
     "output_type": "stream",
     "text": [
      "['Australia', 'largestByAreaIn', 'World']\n"
     ]
    },
    {
     "name": "stdin",
     "output_type": "stream",
     "text": [
      "is it something? y\n"
     ]
    },
    {
     "name": "stdout",
     "output_type": "stream",
     "text": [
      "['Australia', 'superlative', ['\"oldest\"', 'xsd:string']]\n"
     ]
    },
    {
     "name": "stdin",
     "output_type": "stream",
     "text": [
      "is it something? n\n"
     ]
    },
    {
     "name": "stdout",
     "output_type": "stream",
     "text": [
      "['Australia', 'superlative', ['\"flattest\"', 'xsd:string']]\n"
     ]
    },
    {
     "name": "stdin",
     "output_type": "stream",
     "text": [
      "is it something? n\n"
     ]
    },
    {
     "name": "stdout",
     "output_type": "stream",
     "text": [
      "['Australia', 'superlative', ['\"driest\"', 'xsd:string']]\n"
     ]
    },
    {
     "name": "stdin",
     "output_type": "stream",
     "text": [
      "is it something? n\n"
     ]
    },
    {
     "name": "stdout",
     "output_type": "stream",
     "text": [
      "['Australia', 'soilFertility', 'LeastFertileSoils']\n"
     ]
    },
    {
     "name": "stdin",
     "output_type": "stream",
     "text": [
      "is it something? n\n"
     ]
    },
    {
     "name": "stdout",
     "output_type": "stream",
     "text": [
      "['Australia', 'megadiverse', 'MegadiverseCountry']\n"
     ]
    },
    {
     "name": "stdin",
     "output_type": "stream",
     "text": [
      "is it something? n\n"
     ]
    },
    {
     "name": "stdout",
     "output_type": "stream",
     "text": [
      "['Australia', 'varietyOf', 'Landscapes']\n"
     ]
    },
    {
     "name": "stdin",
     "output_type": "stream",
     "text": [
      "is it something? n\n"
     ]
    },
    {
     "name": "stdout",
     "output_type": "stream",
     "text": [
      "['Australia', 'varietyOf', 'Climates']\n"
     ]
    },
    {
     "name": "stdin",
     "output_type": "stream",
     "text": [
      "is it something? n\n"
     ]
    },
    {
     "name": "stdout",
     "output_type": "stream",
     "text": [
      "['Australia', 'desert', 'CentralDesert']\n"
     ]
    },
    {
     "name": "stdin",
     "output_type": "stream",
     "text": [
      "is it something? n\n"
     ]
    },
    {
     "name": "stdout",
     "output_type": "stream",
     "text": [
      "['Australia', 'rainforest', 'NortheastRainforest']\n"
     ]
    },
    {
     "name": "stdin",
     "output_type": "stream",
     "text": [
      "is it something? n\n"
     ]
    },
    {
     "name": "stdout",
     "output_type": "stream",
     "text": [
      "['Australia', 'mountainRange', 'SoutheastMountainRange']\n"
     ]
    },
    {
     "name": "stdin",
     "output_type": "stream",
     "text": [
      "is it something? n\n"
     ]
    },
    {
     "name": "stdout",
     "output_type": "stream",
     "text": [
      "['Australia', 'ancestor', 'AboriginalAustralians']\n"
     ]
    },
    {
     "name": "stdin",
     "output_type": "stream",
     "text": [
      "is it something? y\n"
     ]
    },
    {
     "name": "stdout",
     "output_type": "stream",
     "text": [
      "['Australia', 'arrivalTime', ['\"approximately 65,000 years ago\"', 'xsd:string']]\n"
     ]
    },
    {
     "name": "stdin",
     "output_type": "stream",
     "text": [
      "is it something? n\n"
     ]
    },
    {
     "name": "stdout",
     "output_type": "stream",
     "text": [
      "['Australia', 'arrivalMethod', ['\"sea\"', 'xsd:string']]\n"
     ]
    },
    {
     "name": "stdin",
     "output_type": "stream",
     "text": [
      "is it something? n\n"
     ]
    },
    {
     "name": "stdout",
     "output_type": "stream",
     "text": [
      "['Australia', 'settled', 'AustralianContinent']\n"
     ]
    },
    {
     "name": "stdin",
     "output_type": "stream",
     "text": [
      "is it something? n\n"
     ]
    },
    {
     "name": "stdout",
     "output_type": "stream",
     "text": [
      "['Australia', 'languageGroup', ['\"250\"', 'xsd:integer']]\n"
     ]
    },
    {
     "name": "stdin",
     "output_type": "stream",
     "text": [
      "is it something? n\n"
     ]
    },
    {
     "name": "stdout",
     "output_type": "stream",
     "text": [
      "['Australia', 'languageGroupType', ['\"distinct\"', 'xsd:string']]\n"
     ]
    },
    {
     "name": "stdin",
     "output_type": "stream",
     "text": [
      "is it something? n\n"
     ]
    },
    {
     "name": "stdout",
     "output_type": "stream",
     "text": [
      "['Australia', 'continuingTraditions', 'ArtisticTraditions']\n"
     ]
    },
    {
     "name": "stdin",
     "output_type": "stream",
     "text": [
      "is it something? n\n"
     ]
    },
    {
     "name": "stdout",
     "output_type": "stream",
     "text": [
      "['Australia', 'continuingTraditions', 'ReligiousTraditions']\n"
     ]
    },
    {
     "name": "stdin",
     "output_type": "stream",
     "text": [
      "is it something? n\n"
     ]
    },
    {
     "name": "stdout",
     "output_type": "stream",
     "text": [
      "['Australia', 'writtenHistory', 'EuropeanExploration']\n"
     ]
    },
    {
     "name": "stdin",
     "output_type": "stream",
     "text": [
      "is it something? n\n"
     ]
    },
    {
     "name": "stdout",
     "output_type": "stream",
     "text": [
      "['Australia', 'firstKnownEuropean', ['\"Willem Janszoon\"', 'xsd:string']]\n"
     ]
    },
    {
     "name": "stdin",
     "output_type": "stream",
     "text": [
      "is it something? n\n"
     ]
    },
    {
     "name": "stdout",
     "output_type": "stream",
     "text": [
      "['Australia', 'firstEuropeanArrivalTime', ['\"1606\"', 'xsd:string']]\n"
     ]
    },
    {
     "name": "stdin",
     "output_type": "stream",
     "text": [
      "is it something? n\n"
     ]
    },
    {
     "name": "stdout",
     "output_type": "stream",
     "text": [
      "['Australia', 'mapped', 'EastCoast']\n"
     ]
    },
    {
     "name": "stdin",
     "output_type": "stream",
     "text": [
      "is it something? n\n"
     ]
    },
    {
     "name": "stdout",
     "output_type": "stream",
     "text": [
      "['Australia', 'claimed', 'EastCoast']\n"
     ]
    },
    {
     "name": "stdin",
     "output_type": "stream",
     "text": [
      "is it something? n\n"
     ]
    },
    {
     "name": "stdout",
     "output_type": "stream",
     "text": [
      "['Australia', 'established', 'NewSouthWales']\n"
     ]
    },
    {
     "name": "stdin",
     "output_type": "stream",
     "text": [
      "is it something? n\n"
     ]
    },
    {
     "name": "stdout",
     "output_type": "stream",
     "text": [
      "['Australia', 'establishmentTime', ['\"1788\"', 'xsd:string']]\n"
     ]
    },
    {
     "name": "stdin",
     "output_type": "stream",
     "text": [
      "is it something? y\n"
     ]
    },
    {
     "name": "stdout",
     "output_type": "stream",
     "text": [
      "['Australia', 'population', ['\"26 million\"', 'xsd:string']]\n"
     ]
    },
    {
     "name": "stdin",
     "output_type": "stream",
     "text": [
      "is it something? y\n"
     ]
    },
    {
     "name": "stdout",
     "output_type": "stream",
     "text": [
      "['Australia', 'highlyUrbanised', ['true']]\n"
     ]
    },
    {
     "name": "stdin",
     "output_type": "stream",
     "text": [
      "is it something? y\n"
     ]
    },
    {
     "name": "stdout",
     "output_type": "stream",
     "text": [
      "['Australia', 'concentratedOn', 'EasternSeaboard']\n"
     ]
    },
    {
     "name": "stdin",
     "output_type": "stream",
     "text": [
      "is it something? y\n"
     ]
    },
    {
     "name": "stdout",
     "output_type": "stream",
     "text": [
      "['Australia', 'capital', 'Canberra']\n"
     ]
    },
    {
     "name": "stdin",
     "output_type": "stream",
     "text": [
      "is it something? y\n"
     ]
    },
    {
     "name": "stdout",
     "output_type": "stream",
     "text": [
      "['Australia', 'mostPopulousCity', 'Sydney']\n"
     ]
    },
    {
     "name": "stdin",
     "output_type": "stream",
     "text": [
      "is it something? y\n"
     ]
    },
    {
     "name": "stdout",
     "output_type": "stream",
     "text": [
      "['Australia', 'financialCentre', 'Sydney']\n"
     ]
    },
    {
     "name": "stdin",
     "output_type": "stream",
     "text": [
      "is it something? y\n"
     ]
    },
    {
     "name": "stdout",
     "output_type": "stream",
     "text": [
      "['Australia', 'secondLargestCity', 'Melbourne']\n"
     ]
    },
    {
     "name": "stdin",
     "output_type": "stream",
     "text": [
      "is it something? y\n"
     ]
    },
    {
     "name": "stdout",
     "output_type": "stream",
     "text": [
      "['Australia', 'thirdLargestCity', 'Brisbane']\n"
     ]
    },
    {
     "name": "stdin",
     "output_type": "stream",
     "text": [
      "is it something? y\n"
     ]
    },
    {
     "name": "stdout",
     "output_type": "stream",
     "text": [
      "['Australia', 'fourthLargestCity', 'Perth']\n"
     ]
    },
    {
     "name": "stdin",
     "output_type": "stream",
     "text": [
      "is it something? y\n"
     ]
    },
    {
     "name": "stdout",
     "output_type": "stream",
     "text": [
      "['Australia', 'fifthLargestCity', 'Adelaide']\n"
     ]
    },
    {
     "name": "stdin",
     "output_type": "stream",
     "text": [
      "is it something? y\n"
     ]
    },
    {
     "name": "stdout",
     "output_type": "stream",
     "text": [
      "['Australia', 'shapedDemography', 'Immigration']\n"
     ]
    },
    {
     "name": "stdin",
     "output_type": "stream",
     "text": [
      "is it something? n\n"
     ]
    },
    {
     "name": "stdout",
     "output_type": "stream",
     "text": [
      "['Australia', 'immigrantPopulation', ['\"30%\"', 'xsd:string']]\n"
     ]
    },
    {
     "name": "stdin",
     "output_type": "stream",
     "text": [
      "is it something? y\n"
     ]
    },
    {
     "name": "stdout",
     "output_type": "stream",
     "text": [
      "['Australia', 'overseasBornPopulation', ['\"almost half\"', 'xsd:string']]\n"
     ]
    },
    {
     "name": "stdin",
     "output_type": "stream",
     "text": [
      "is it something? n\n"
     ]
    },
    {
     "name": "stdout",
     "output_type": "stream",
     "text": [
      "['Australia', 'abundantResources', ['true']]\n"
     ]
    },
    {
     "name": "stdin",
     "output_type": "stream",
     "text": [
      "is it something? y\n"
     ]
    },
    {
     "name": "stdout",
     "output_type": "stream",
     "text": [
      "['Australia', 'wellDevelopedTradeRelations', ['true']]\n"
     ]
    },
    {
     "name": "stdin",
     "output_type": "stream",
     "text": [
      "is it something? y\n"
     ]
    },
    {
     "name": "stdout",
     "output_type": "stream",
     "text": [
      "['Australia', 'crucialTo', 'Economy']\n"
     ]
    },
    {
     "name": "stdin",
     "output_type": "stream",
     "text": [
      "is it something? n\n"
     ]
    },
    {
     "name": "stdout",
     "output_type": "stream",
     "text": [
      "['Australia', 'generatesIncomeFrom', 'Services']\n"
     ]
    },
    {
     "name": "stdin",
     "output_type": "stream",
     "text": [
      "is it something? y\n"
     ]
    },
    {
     "name": "stdout",
     "output_type": "stream",
     "text": [
      "['Australia', 'generatesIncomeFrom', 'MiningExports']\n"
     ]
    },
    {
     "name": "stdin",
     "output_type": "stream",
     "text": [
      "is it something? y\n"
     ]
    },
    {
     "name": "stdout",
     "output_type": "stream",
     "text": [
      "['Australia', 'generatesIncomeFrom', 'Banking']\n"
     ]
    },
    {
     "name": "stdin",
     "output_type": "stream",
     "text": [
      "is it something? y\n"
     ]
    },
    {
     "name": "stdout",
     "output_type": "stream",
     "text": [
      "['Australia', 'generatesIncomeFrom', 'Manufacturing']\n"
     ]
    },
    {
     "name": "stdin",
     "output_type": "stream",
     "text": [
      "is it something? y\n"
     ]
    },
    {
     "name": "stdout",
     "output_type": "stream",
     "text": [
      "['Australia', 'generatesIncomeFrom', 'Agriculture']\n"
     ]
    },
    {
     "name": "stdin",
     "output_type": "stream",
     "text": [
      "is it something? y\n"
     ]
    },
    {
     "name": "stdout",
     "output_type": "stream",
     "text": [
      "['Australia', 'generatesIncomeFrom', 'InternationalEducation']\n"
     ]
    },
    {
     "name": "stdin",
     "output_type": "stream",
     "text": [
      "is it something? y\n"
     ]
    },
    {
     "name": "stdout",
     "output_type": "stream",
     "text": [
      "['Australia', 'highlyDeveloped', ['true']]\n"
     ]
    },
    {
     "name": "stdin",
     "output_type": "stream",
     "text": [
      "is it something? y\n"
     ]
    },
    {
     "name": "stdout",
     "output_type": "stream",
     "text": [
      "['Australia', 'highIncomeEconomy', ['true']]\n"
     ]
    },
    {
     "name": "stdin",
     "output_type": "stream",
     "text": [
      "is it something? y\n"
     ]
    },
    {
     "name": "stdout",
     "output_type": "stream",
     "text": [
      "['Australia', 'economyRank', ['\"14\"', 'xsd:integer']]\n"
     ]
    },
    {
     "name": "stdin",
     "output_type": "stream",
     "text": [
      "is it something? y\n"
     ]
    },
    {
     "name": "stdout",
     "output_type": "stream",
     "text": [
      "['Australia', 'perCapitaIncomeRank', ['\"9\"', 'xsd:integer']]\n"
     ]
    },
    {
     "name": "stdin",
     "output_type": "stream",
     "text": [
      "is it something? y\n"
     ]
    },
    {
     "name": "stdout",
     "output_type": "stream",
     "text": [
      "['Australia', 'hDIrank', ['\"5\"', 'xsd:integer']]\n"
     ]
    },
    {
     "name": "stdin",
     "output_type": "stream",
     "text": [
      "is it something? y\n"
     ]
    },
    {
     "name": "stdout",
     "output_type": "stream",
     "text": [
      "['Australia', 'regionalPower', ['true']]\n"
     ]
    },
    {
     "name": "stdin",
     "output_type": "stream",
     "text": [
      "is it something? y\n"
     ]
    },
    {
     "name": "stdout",
     "output_type": "stream",
     "text": [
      "['Australia', 'militaryExpenditureRank', ['\"13\"', 'xsd:integer']]\n"
     ]
    },
    {
     "name": "stdin",
     "output_type": "stream",
     "text": [
      "is it something? y\n"
     ]
    },
    {
     "name": "stdout",
     "output_type": "stream",
     "text": [
      "['Australia', 'qualityOfLifeRank', ['\"highest\"', 'xsd:string']]\n"
     ]
    },
    {
     "name": "stdin",
     "output_type": "stream",
     "text": [
      "is it something? y\n"
     ]
    },
    {
     "name": "stdout",
     "output_type": "stream",
     "text": [
      "['Australia', 'democracyRank', ['\"highest\"', 'xsd:string']]\n"
     ]
    },
    {
     "name": "stdin",
     "output_type": "stream",
     "text": [
      "is it something? y\n"
     ]
    },
    {
     "name": "stdout",
     "output_type": "stream",
     "text": [
      "['Australia', 'healthRank', ['\"highest\"', 'xsd:string']]\n"
     ]
    },
    {
     "name": "stdin",
     "output_type": "stream",
     "text": [
      "is it something? y\n"
     ]
    },
    {
     "name": "stdout",
     "output_type": "stream",
     "text": [
      "['Australia', 'educationRank', ['\"highest\"', 'xsd:string']]\n"
     ]
    },
    {
     "name": "stdin",
     "output_type": "stream",
     "text": [
      "is it something? y\n"
     ]
    },
    {
     "name": "stdout",
     "output_type": "stream",
     "text": [
      "['Australia', 'economicFreedomRank', ['\"highest\"', 'xsd:string']]\n"
     ]
    },
    {
     "name": "stdin",
     "output_type": "stream",
     "text": [
      "is it something? y\n"
     ]
    },
    {
     "name": "stdout",
     "output_type": "stream",
     "text": [
      "['Australia', 'civilLibertiesRank', ['\"highest\"', 'xsd:string']]\n"
     ]
    },
    {
     "name": "stdin",
     "output_type": "stream",
     "text": [
      "is it something? y\n"
     ]
    },
    {
     "name": "stdout",
     "output_type": "stream",
     "text": [
      "['Australia', 'safetyRank', ['\"highest\"', 'xsd:string']]\n"
     ]
    },
    {
     "name": "stdin",
     "output_type": "stream",
     "text": [
      "is it something? y\n"
     ]
    },
    {
     "name": "stdout",
     "output_type": "stream",
     "text": [
      "['Australia', 'politicalRightsRank', ['\"highest\"', 'xsd:string']]\n"
     ]
    },
    {
     "name": "stdin",
     "output_type": "stream",
     "text": [
      "is it something? y\n"
     ]
    },
    {
     "name": "stdout",
     "output_type": "stream",
     "text": [
      "['Australia', 'exceptionalCities', ['true']]\n"
     ]
    },
    {
     "name": "stdin",
     "output_type": "stream",
     "text": [
      "is it something? n\n"
     ]
    },
    {
     "name": "stdout",
     "output_type": "stream",
     "text": [
      "['Australia', 'memberOf', 'UnitedNations']\n"
     ]
    },
    {
     "name": "stdin",
     "output_type": "stream",
     "text": [
      "is it something? y\n"
     ]
    },
    {
     "name": "stdout",
     "output_type": "stream",
     "text": [
      "['Australia', 'memberOf', 'G20']\n"
     ]
    },
    {
     "name": "stdin",
     "output_type": "stream",
     "text": [
      "is it something? y\n"
     ]
    },
    {
     "name": "stdout",
     "output_type": "stream",
     "text": [
      "['Australia', 'memberOf', 'OECD']\n"
     ]
    },
    {
     "name": "stdin",
     "output_type": "stream",
     "text": [
      "is it something? y\n"
     ]
    },
    {
     "name": "stdout",
     "output_type": "stream",
     "text": [
      "['Australia', 'memberOf', 'WTO']\n"
     ]
    },
    {
     "name": "stdin",
     "output_type": "stream",
     "text": [
      "is it something? y\n"
     ]
    },
    {
     "name": "stdout",
     "output_type": "stream",
     "text": [
      "['Australia', 'memberOf', 'ANZUS']\n"
     ]
    },
    {
     "name": "stdin",
     "output_type": "stream",
     "text": [
      "is it something? y\n"
     ]
    },
    {
     "name": "stdout",
     "output_type": "stream",
     "text": [
      "['Australia', 'memberOf', 'AUKUS']\n"
     ]
    },
    {
     "name": "stdin",
     "output_type": "stream",
     "text": [
      "is it something? y\n"
     ]
    },
    {
     "name": "stdout",
     "output_type": "stream",
     "text": [
      "['Australia', 'memberOf', 'FiveEyes']\n"
     ]
    },
    {
     "name": "stdin",
     "output_type": "stream",
     "text": [
      "is it something? y\n"
     ]
    },
    {
     "name": "stdout",
     "output_type": "stream",
     "text": [
      "['Australia', 'memberOf', 'Quad']\n"
     ]
    },
    {
     "name": "stdin",
     "output_type": "stream",
     "text": [
      "is it something? y\n"
     ]
    },
    {
     "name": "stdout",
     "output_type": "stream",
     "text": [
      "['Australia', 'memberOf', 'APEC']\n"
     ]
    },
    {
     "name": "stdin",
     "output_type": "stream",
     "text": [
      "is it something? y\n"
     ]
    },
    {
     "name": "stdout",
     "output_type": "stream",
     "text": [
      "['Australia', 'memberOf', 'PacificIslandsForum']\n"
     ]
    },
    {
     "name": "stdin",
     "output_type": "stream",
     "text": [
      "is it something? y\n"
     ]
    },
    {
     "name": "stdout",
     "output_type": "stream",
     "text": [
      "['Australia', 'memberOf', 'PacificCommunity']\n"
     ]
    },
    {
     "name": "stdin",
     "output_type": "stream",
     "text": [
      "is it something? y\n"
     ]
    },
    {
     "name": "stdout",
     "output_type": "stream",
     "text": [
      "['Australia', 'memberOf', 'CommonwealthOfNations']\n"
     ]
    },
    {
     "name": "stdin",
     "output_type": "stream",
     "text": [
      "is it something? y\n"
     ]
    },
    {
     "name": "stdout",
     "output_type": "stream",
     "text": [
      "\n",
      "['Leonardo DiCaprio', 'type', 'foaf:Person']\n"
     ]
    },
    {
     "name": "stdin",
     "output_type": "stream",
     "text": [
      "is it something? y\n"
     ]
    },
    {
     "name": "stdout",
     "output_type": "stream",
     "text": [
      "['Leonardo DiCaprio', 'name', 'Leonardo_Wilhelm_DiCaprio']\n"
     ]
    },
    {
     "name": "stdin",
     "output_type": "stream",
     "text": [
      "is it something? y\n"
     ]
    },
    {
     "name": "stdout",
     "output_type": "stream",
     "text": [
      "['Leonardo DiCaprio', 'birthDate', ['\"1974-11-11\"', 'xsd:date']]\n"
     ]
    },
    {
     "name": "stdin",
     "output_type": "stream",
     "text": [
      "is it something? y\n"
     ]
    },
    {
     "name": "stdout",
     "output_type": "stream",
     "text": [
      "['Leonardo DiCaprio', 'birthPlace', 'Los_Angeles']\n"
     ]
    },
    {
     "name": "stdin",
     "output_type": "stream",
     "text": [
      "is it something? y\n"
     ]
    },
    {
     "name": "stdout",
     "output_type": "stream",
     "text": [
      "['Leonardo DiCaprio', 'occupation', 'Actor,_film_producer']\n"
     ]
    },
    {
     "name": "stdin",
     "output_type": "stream",
     "text": [
      "is it something? y\n"
     ]
    },
    {
     "name": "stdout",
     "output_type": "stream",
     "text": [
      "['Leonardo DiCaprio', 'primaryTopicOf', 'Leonardo_DiCaprio']\n"
     ]
    },
    {
     "name": "stdin",
     "output_type": "stream",
     "text": [
      "is it something? n\n"
     ]
    },
    {
     "name": "stdout",
     "output_type": "stream",
     "text": [
      "['Leonardo DiCaprio', 'made', 'Appian_Way_Productions']\n"
     ]
    },
    {
     "name": "stdin",
     "output_type": "stream",
     "text": [
      "is it something? y\n"
     ]
    },
    {
     "name": "stdout",
     "output_type": "stream",
     "text": [
      "['Leonardo DiCaprio', 'made', 'Greensburg']\n"
     ]
    },
    {
     "name": "stdin",
     "output_type": "stream",
     "text": [
      "is it something? y\n"
     ]
    },
    {
     "name": "stdout",
     "output_type": "stream",
     "text": [
      "['Leonardo DiCaprio', 'made', 'Leonardo_DiCaprio_Foundation']\n"
     ]
    },
    {
     "name": "stdin",
     "output_type": "stream",
     "text": [
      "is it something? y\n"
     ]
    },
    {
     "name": "stdout",
     "output_type": "stream",
     "text": [
      "['Leonardo DiCaprio', 'depiction', 'Leonardo_DiCaprio.jpg']\n"
     ]
    },
    {
     "name": "stdin",
     "output_type": "stream",
     "text": [
      "is it something? n\n"
     ]
    },
    {
     "name": "stdout",
     "output_type": "stream",
     "text": [
      "['Leonardo DiCaprio', 'hasOccupation', 'dbp:occupation']\n"
     ]
    },
    {
     "name": "stdin",
     "output_type": "stream",
     "text": [
      "is it something? n\n"
     ]
    },
    {
     "name": "stdout",
     "output_type": "stream",
     "text": [
      "['Leonardo DiCaprio', 'networth', ['\"7.2 billion\"', 'xsd:decimal']]\n"
     ]
    },
    {
     "name": "stdin",
     "output_type": "stream",
     "text": [
      "is it something? y\n"
     ]
    },
    {
     "name": "stdout",
     "output_type": "stream",
     "text": [
      "['Leonardo DiCaprio', 'academicAdvisor', 'Martin_Scorsese']\n"
     ]
    },
    {
     "name": "stdin",
     "output_type": "stream",
     "text": [
      "is it something? y\n"
     ]
    },
    {
     "name": "stdout",
     "output_type": "stream",
     "text": [
      "['Leonardo DiCaprio', 'award', 'Academy_Award']\n"
     ]
    },
    {
     "name": "stdin",
     "output_type": "stream",
     "text": [
      "is it something? y\n"
     ]
    },
    {
     "name": "stdout",
     "output_type": "stream",
     "text": [
      "['Leonardo DiCaprio', 'award', 'BAFTA_Award']\n"
     ]
    },
    {
     "name": "stdin",
     "output_type": "stream",
     "text": [
      "is it something? y\n"
     ]
    },
    {
     "name": "stdout",
     "output_type": "stream",
     "text": [
      "['Leonardo DiCaprio', 'award', 'Golden_Globe_Award']\n"
     ]
    },
    {
     "name": "stdin",
     "output_type": "stream",
     "text": [
      "is it something? y\n"
     ]
    },
    {
     "name": "stdout",
     "output_type": "stream",
     "text": [
      "['Leonardo DiCaprio', 'receivedAward', 'Academy_Award']\n"
     ]
    },
    {
     "name": "stdin",
     "output_type": "stream",
     "text": [
      "is it something? y\n"
     ]
    },
    {
     "name": "stdout",
     "output_type": "stream",
     "text": [
      "['Leonardo DiCaprio', 'receivedAward', 'BAFTA_Award']\n"
     ]
    },
    {
     "name": "stdin",
     "output_type": "stream",
     "text": [
      "is it something? y\n"
     ]
    },
    {
     "name": "stdout",
     "output_type": "stream",
     "text": [
      "['Leonardo DiCaprio', 'receivedAward', 'Golden_Globe_Award']\n"
     ]
    },
    {
     "name": "stdin",
     "output_type": "stream",
     "text": [
      "is it something? y\n"
     ]
    },
    {
     "name": "stdout",
     "output_type": "stream",
     "text": [
      "['Leonardo DiCaprio', 'collaboratedWith', 'Martin_Scorsese']\n"
     ]
    },
    {
     "name": "stdin",
     "output_type": "stream",
     "text": [
      "is it something? y\n"
     ]
    },
    {
     "name": "stdout",
     "output_type": "stream",
     "text": [
      "['Leonardo DiCaprio', 'criticalAcclaim', \"What's_Eating_Gilbert_Grape\"]\n"
     ]
    },
    {
     "name": "stdin",
     "output_type": "stream",
     "text": [
      "is it something? y\n"
     ]
    },
    {
     "name": "stdout",
     "output_type": "stream",
     "text": [
      "['Leonardo DiCaprio', 'criticalAcclaim', 'The_Revenant']\n"
     ]
    },
    {
     "name": "stdin",
     "output_type": "stream",
     "text": [
      "is it something? y\n"
     ]
    },
    {
     "name": "stdout",
     "output_type": "stream",
     "text": [
      "['Leonardo DiCaprio', 'criticalAcclaim', 'The_Departed']\n"
     ]
    },
    {
     "name": "stdin",
     "output_type": "stream",
     "text": [
      "is it something? y\n"
     ]
    },
    {
     "name": "stdout",
     "output_type": "stream",
     "text": [
      "['Leonardo DiCaprio', 'criticalAcclaim', 'Blood_Diamond']\n"
     ]
    },
    {
     "name": "stdin",
     "output_type": "stream",
     "text": [
      "is it something? y\n"
     ]
    },
    {
     "name": "stdout",
     "output_type": "stream",
     "text": [
      "['Leonardo DiCaprio', 'criticalAcclaim', 'Revolutionary_Road']\n"
     ]
    },
    {
     "name": "stdin",
     "output_type": "stream",
     "text": [
      "is it something? y\n"
     ]
    },
    {
     "name": "stdout",
     "output_type": "stream",
     "text": [
      "['Leonardo DiCaprio', 'film', \"This_Boy's_Life\"]\n"
     ]
    },
    {
     "name": "stdin",
     "output_type": "stream",
     "text": [
      "is it something? y\n"
     ]
    },
    {
     "name": "stdout",
     "output_type": "stream",
     "text": [
      "['Leonardo DiCaprio', 'film', 'Romeo_+_Juliet']\n"
     ]
    },
    {
     "name": "stdin",
     "output_type": "stream",
     "text": [
      "is it something? y\n"
     ]
    },
    {
     "name": "stdout",
     "output_type": "stream",
     "text": [
      "['Leonardo DiCaprio', 'film', 'Titanic']\n"
     ]
    },
    {
     "name": "stdin",
     "output_type": "stream",
     "text": [
      "is it something? y\n"
     ]
    },
    {
     "name": "stdout",
     "output_type": "stream",
     "text": [
      "['Leonardo DiCaprio', 'film', 'Catch_Me_If_You_Can']\n"
     ]
    },
    {
     "name": "stdin",
     "output_type": "stream",
     "text": [
      "is it something? y\n"
     ]
    },
    {
     "name": "stdout",
     "output_type": "stream",
     "text": [
      "['Leonardo DiCaprio', 'film', 'Gangs_of_New_York']\n"
     ]
    },
    {
     "name": "stdin",
     "output_type": "stream",
     "text": [
      "is it something? y\n"
     ]
    },
    {
     "name": "stdout",
     "output_type": "stream",
     "text": [
      "['Leonardo DiCaprio', 'film', 'The_Aviator']\n"
     ]
    },
    {
     "name": "stdin",
     "output_type": "stream",
     "text": [
      "is it something? y\n"
     ]
    },
    {
     "name": "stdout",
     "output_type": "stream",
     "text": [
      "['Leonardo DiCaprio', 'film', 'Django_Unchained']\n"
     ]
    },
    {
     "name": "stdin",
     "output_type": "stream",
     "text": [
      "is it something? y\n"
     ]
    },
    {
     "name": "stdout",
     "output_type": "stream",
     "text": [
      "['Leonardo DiCaprio', 'film', 'The_Great_Gatsby']\n"
     ]
    },
    {
     "name": "stdin",
     "output_type": "stream",
     "text": [
      "is it something? y\n"
     ]
    },
    {
     "name": "stdout",
     "output_type": "stream",
     "text": [
      "['Leonardo DiCaprio', 'film', 'The_Wolf_of_Wall_Street']\n"
     ]
    },
    {
     "name": "stdin",
     "output_type": "stream",
     "text": [
      "is it something? y\n"
     ]
    },
    {
     "name": "stdout",
     "output_type": "stream",
     "text": [
      "['Leonardo DiCaprio', 'film', 'Once_Upon_a_Time_in_Hollywood']\n"
     ]
    },
    {
     "name": "stdin",
     "output_type": "stream",
     "text": [
      "is it something? y\n"
     ]
    },
    {
     "name": "stdout",
     "output_type": "stream",
     "text": [
      "['Leonardo DiCaprio', 'Leonardo_DiCaprio_Foundation', 'rdf:type']\n"
     ]
    },
    {
     "name": "stdin",
     "output_type": "stream",
     "text": [
      "is it something? n\n"
     ]
    },
    {
     "name": "stdout",
     "output_type": "stream",
     "text": [
      "['Leonardo DiCaprio', 'Leonardo_DiCaprio_Foundation', 'foaf:Organization']\n"
     ]
    },
    {
     "name": "stdin",
     "output_type": "stream",
     "text": [
      "is it something? n\n"
     ]
    },
    {
     "name": "stdout",
     "output_type": "stream",
     "text": [
      "['Leonardo DiCaprio', 'name', 'Leonardo_DiCaprio_Foundation']\n"
     ]
    },
    {
     "name": "stdin",
     "output_type": "stream",
     "text": [
      "is it something? n\n"
     ]
    },
    {
     "name": "stdout",
     "output_type": "stream",
     "text": [
      "['Leonardo DiCaprio', 'homepage', '<http://leonardodicaprio.org>']\n"
     ]
    },
    {
     "name": "stdin",
     "output_type": "stream",
     "text": [
      "is it something? n\n"
     ]
    },
    {
     "name": "stdout",
     "output_type": "stream",
     "text": [
      "\n",
      "[\"Grey's Anatomy\", 'type', 'TV_Series']\n"
     ]
    },
    {
     "name": "stdin",
     "output_type": "stream",
     "text": [
      "is it something? y\n"
     ]
    },
    {
     "name": "stdout",
     "output_type": "stream",
     "text": [
      "[\"Grey's Anatomy\", 'premiere_date', ['\"2005-03-27\"', 'xsd:date']]\n"
     ]
    },
    {
     "name": "stdin",
     "output_type": "stream",
     "text": [
      "is it something? y\n"
     ]
    },
    {
     "name": "stdout",
     "output_type": "stream",
     "text": [
      "[\"Grey's Anatomy\", 'network', 'ABC']\n"
     ]
    },
    {
     "name": "stdin",
     "output_type": "stream",
     "text": [
      "is it something? y\n"
     ]
    },
    {
     "name": "stdout",
     "output_type": "stream",
     "text": [
      "[\"Grey's Anatomy\", 'genre', 'medical_drama']\n"
     ]
    },
    {
     "name": "stdin",
     "output_type": "stream",
     "text": [
      "is it something? y\n"
     ]
    },
    {
     "name": "stdout",
     "output_type": "stream",
     "text": [
      "[\"Grey's Anatomy\", 'location', 'Seattle,_Washington']\n"
     ]
    },
    {
     "name": "stdin",
     "output_type": "stream",
     "text": [
      "is it something? y\n"
     ]
    },
    {
     "name": "stdout",
     "output_type": "stream",
     "text": [
      "[\"Grey's Anatomy\", 'filming_location', 'Los_Angeles,_California_Vancouver,_British_Columbia']\n"
     ]
    },
    {
     "name": "stdin",
     "output_type": "stream",
     "text": [
      "is it something? y\n"
     ]
    },
    {
     "name": "stdout",
     "output_type": "stream",
     "text": [
      "[\"Grey's Anatomy\", 'created_by', 'Shonda_Rhimes']\n"
     ]
    },
    {
     "name": "stdin",
     "output_type": "stream",
     "text": [
      "is it something? y\n"
     ]
    },
    {
     "name": "stdout",
     "output_type": "stream",
     "text": [
      "[\"Grey's Anatomy\", 'showrunner', 'Krista_Vernoff']\n"
     ]
    },
    {
     "name": "stdin",
     "output_type": "stream",
     "text": [
      "is it something? y\n"
     ]
    },
    {
     "name": "stdout",
     "output_type": "stream",
     "text": [
      "[\"Grey's Anatomy\", 'executive_producer', 'Krista_Vernoff']\n"
     ]
    },
    {
     "name": "stdin",
     "output_type": "stream",
     "text": [
      "is it something? y\n"
     ]
    },
    {
     "name": "stdout",
     "output_type": "stream",
     "text": [
      "[\"Grey's Anatomy\", 'main_character', 'Dr._Meredith_Grey']\n"
     ]
    },
    {
     "name": "stdin",
     "output_type": "stream",
     "text": [
      "is it something? y\n"
     ]
    },
    {
     "name": "stdout",
     "output_type": "stream",
     "text": [
      "[\"Grey's Anatomy\", 'main_actor', 'Ellen_Pompeo']\n"
     ]
    },
    {
     "name": "stdin",
     "output_type": "stream",
     "text": [
      "is it something? y\n"
     ]
    },
    {
     "name": "stdout",
     "output_type": "stream",
     "text": [
      "[\"Grey's Anatomy\", 'seasons', '19']\n"
     ]
    },
    {
     "name": "stdin",
     "output_type": "stream",
     "text": [
      "is it something? y\n"
     ]
    },
    {
     "name": "stdout",
     "output_type": "stream",
     "text": [
      "[\"Grey's Anatomy\", 'episode_count', '388']\n"
     ]
    },
    {
     "name": "stdin",
     "output_type": "stream",
     "text": [
      "is it something? y\n"
     ]
    },
    {
     "name": "stdout",
     "output_type": "stream",
     "text": [
      "[\"Grey's Anatomy\", 'longest_running', ['\"true\"']]\n"
     ]
    },
    {
     "name": "stdin",
     "output_type": "stream",
     "text": [
      "is it something? y\n"
     ]
    },
    {
     "name": "stdout",
     "output_type": "stream",
     "text": [
      "[\"Grey's Anatomy\", 'spin_off', 'Station_19_Private_Practice']\n"
     ]
    },
    {
     "name": "stdin",
     "output_type": "stream",
     "text": [
      "is it something? y\n"
     ]
    },
    {
     "name": "stdout",
     "output_type": "stream",
     "text": [
      "[\"Grey's Anatomy\", 'awards', 'Station_19_Private_Practice']\n"
     ]
    },
    {
     "name": "stdin",
     "output_type": "stream",
     "text": [
      "is it something? n\n"
     ]
    },
    {
     "name": "stdout",
     "output_type": "stream",
     "text": [
      "[\"Grey's Anatomy\", 'rating', 'high']\n"
     ]
    },
    {
     "name": "stdin",
     "output_type": "stream",
     "text": [
      "is it something? n\n"
     ]
    },
    {
     "name": "stdout",
     "output_type": "stream",
     "text": [
      "[\"Grey's Anatomy\", 'success', 'phenomenon']\n"
     ]
    },
    {
     "name": "stdin",
     "output_type": "stream",
     "text": [
      "is it something? n\n"
     ]
    },
    {
     "name": "stdout",
     "output_type": "stream",
     "text": [
      "[\"Grey's Anatomy\", 'has_cast', 'Ellen_Pompeo']\n"
     ]
    },
    {
     "name": "stdin",
     "output_type": "stream",
     "text": [
      "is it something? y\n"
     ]
    },
    {
     "name": "stdout",
     "output_type": "stream",
     "text": [
      "[\"Grey's Anatomy\", 'has_cast', 'Sandra_Oh']\n"
     ]
    },
    {
     "name": "stdin",
     "output_type": "stream",
     "text": [
      "is it something? y\n"
     ]
    },
    {
     "name": "stdout",
     "output_type": "stream",
     "text": [
      "[\"Grey's Anatomy\", 'has_cast', 'Katherine_Heigl']\n"
     ]
    },
    {
     "name": "stdin",
     "output_type": "stream",
     "text": [
      "is it something? y\n"
     ]
    },
    {
     "name": "stdout",
     "output_type": "stream",
     "text": [
      "[\"Grey's Anatomy\", 'has_cast', 'Justin_Chambers']\n"
     ]
    },
    {
     "name": "stdin",
     "output_type": "stream",
     "text": [
      "is it something? y\n"
     ]
    },
    {
     "name": "stdout",
     "output_type": "stream",
     "text": [
      "[\"Grey's Anatomy\", 'has_cast', 'T_R_Knight']\n"
     ]
    },
    {
     "name": "stdin",
     "output_type": "stream",
     "text": [
      "is it something? y\n"
     ]
    },
    {
     "name": "stdout",
     "output_type": "stream",
     "text": [
      "[\"Grey's Anatomy\", 'has_cast', 'Chandra_Wilson']\n"
     ]
    },
    {
     "name": "stdin",
     "output_type": "stream",
     "text": [
      "is it something? y\n"
     ]
    },
    {
     "name": "stdout",
     "output_type": "stream",
     "text": [
      "[\"Grey's Anatomy\", 'has_cast', 'James_Pickens_Jr']\n"
     ]
    },
    {
     "name": "stdin",
     "output_type": "stream",
     "text": [
      "is it something? y\n"
     ]
    },
    {
     "name": "stdout",
     "output_type": "stream",
     "text": [
      "[\"Grey's Anatomy\", 'has_cast', 'Isaiah_Washington']\n"
     ]
    },
    {
     "name": "stdin",
     "output_type": "stream",
     "text": [
      "is it something? y\n"
     ]
    },
    {
     "name": "stdout",
     "output_type": "stream",
     "text": [
      "[\"Grey's Anatomy\", 'has_cast', 'Patrick_Dempsey']\n"
     ]
    },
    {
     "name": "stdin",
     "output_type": "stream",
     "text": [
      "is it something? y\n"
     ]
    },
    {
     "name": "stdout",
     "output_type": "stream",
     "text": [
      "[\"Grey's Anatomy\", 'has_character', 'Dr._Meredith_Grey']\n"
     ]
    },
    {
     "name": "stdin",
     "output_type": "stream",
     "text": [
      "is it something? y\n"
     ]
    },
    {
     "name": "stdout",
     "output_type": "stream",
     "text": [
      "[\"Grey's Anatomy\", 'has_location', 'Seattle_Washington']\n"
     ]
    },
    {
     "name": "stdin",
     "output_type": "stream",
     "text": [
      "is it something? y\n"
     ]
    },
    {
     "name": "stdout",
     "output_type": "stream",
     "text": [
      "[\"Grey's Anatomy\", 'has_book', \"Gray's_Anatomy_book\"]\n"
     ]
    },
    {
     "name": "stdin",
     "output_type": "stream",
     "text": [
      "is it something? y\n"
     ]
    },
    {
     "name": "stdout",
     "output_type": "stream",
     "text": [
      "[\"Grey's Anatomy\", 'has_medical_professional', 'Surgical_intern']\n"
     ]
    },
    {
     "name": "stdin",
     "output_type": "stream",
     "text": [
      "is it something? n\n"
     ]
    },
    {
     "name": "stdout",
     "output_type": "stream",
     "text": [
      "[\"Grey's Anatomy\", 'has_medical_professional', 'Resident']\n"
     ]
    },
    {
     "name": "stdin",
     "output_type": "stream",
     "text": [
      "is it something? n\n"
     ]
    },
    {
     "name": "stdout",
     "output_type": "stream",
     "text": [
      "[\"Grey's Anatomy\", 'has_medical_professional', 'Attending']\n"
     ]
    },
    {
     "name": "stdin",
     "output_type": "stream",
     "text": [
      "is it something? n\n"
     ]
    },
    {
     "name": "stdout",
     "output_type": "stream",
     "text": [
      "[\"Grey's Anatomy\", 'has_season', 'season_19']\n"
     ]
    },
    {
     "name": "stdin",
     "output_type": "stream",
     "text": [
      "is it something? y\n"
     ]
    },
    {
     "name": "stdout",
     "output_type": "stream",
     "text": [
      "[\"Grey's Anatomy\", 'has_event', 'Ellen_Pompeo_exit']\n"
     ]
    },
    {
     "name": "stdin",
     "output_type": "stream",
     "text": [
      "is it something? n\n"
     ]
    },
    {
     "name": "stdout",
     "output_type": "stream",
     "text": [
      "\n"
     ]
    },
    {
     "data": {
      "text/plain": [
       "(281, 42, 0.8699690402476781)"
      ]
     },
     "execution_count": 17,
     "metadata": {},
     "output_type": "execute_result"
    }
   ],
   "source": [
    "good = 0\n",
    "bad = 0\n",
    "\n",
    "for i in data['Chat-GPT']:\n",
    "    for j in i:\n",
    "    #for trip in i:\n",
    "        print(j)\n",
    "        answer = (input('is it something?').startswith('y'))\n",
    "        if answer is True:\n",
    "            good += 1\n",
    "        else:\n",
    "            bad += 1\n",
    "    print()\n",
    "\n",
    "good, bad, good/(good+bad)"
   ]
  },
  {
   "cell_type": "code",
   "execution_count": 20,
   "id": "883a9f9b-4052-4626-b744-1000ea2536a6",
   "metadata": {},
   "outputs": [
    {
     "data": {
      "text/plain": [
       "(323, 27.52, 39.84)"
      ]
     },
     "execution_count": 20,
     "metadata": {},
     "output_type": "execute_result"
    }
   ],
   "source": [
    "good+bad, round((161/585)*100,2), round((49/123)*100,2)"
   ]
  },
  {
   "cell_type": "markdown",
   "id": "57018d50-e046-4918-90d0-844ed1785c22",
   "metadata": {},
   "source": [
    "- 281/323 - GPT\n",
    "- 161/585 -Stanford\n",
    "- 49/123 - ClauCy\n",
    "\n",
    " ANOVA\n",
    " - to compare if there are significant difference between models"
   ]
  },
  {
   "cell_type": "code",
   "execution_count": 26,
   "id": "e7a67a60-9cfb-4414-b739-758a3aadae29",
   "metadata": {},
   "outputs": [
    {
     "name": "stdout",
     "output_type": "stream",
     "text": [
      "87.0\n",
      "27.5\n",
      "39.8\n"
     ]
    }
   ],
   "source": [
    "print(round((281/323)*100,1))\n",
    "print(round((161/585)*100,1))\n",
    "print(round((49/123)*100,1))"
   ]
  },
  {
   "cell_type": "markdown",
   "id": "5b285b3d-763b-4771-9c29-caba1d0aad54",
   "metadata": {},
   "source": [
    "\n",
    "the triples created were manually determined if they were valid or unvalid to be used in a knowledge base. there are multiple ways a triple can be deemed unvalid, it could contain false information, be a repeated triple, or the triple does not make sense. by manual processing of the triples, in the table, it can be seen that chatGPT created the highest quality of triples by far, with around 80% of its triples being valid for knowledge base use. ClauCy Performed better than Stanford by a minor degree even though it created a fraction of the triples that stanford. "
   ]
  },
  {
   "cell_type": "markdown",
   "id": "09ecd554-70f8-4726-a9f9-357c344eab76",
   "metadata": {},
   "source": [
    "bad triples are triples that either contains information that is false or triples that do not make sense (e.g. relation - finishedBefore object - months )\n",
    "\n",
    "\n",
    "ChatGPT information extracted is highly precise with many entities having no false triples created. There are still a few cases where the model gets confused and creates vaguely false triples, such as when talking about the first europeans to come to Australia creating odd triples such as mapped eastcoast and established newsouthwales. These triples are created with correct information but without context the triples do not make sense and dilute the performance of the triples performance for that entity.  \n",
    "\n",
    "ClauCy created a large amount of truthfully triples, just not to the high standards of Chat-GPT, for example, ClauCy created 'Heath Ledger recieved nominations' whist GPT listed all the awards Heath Ledger won. ClauCy would also create bad triple formations such as 'relation - april object -April' which is not a relevant triple for any entity. These error occurred a lot more in Stanford.\n",
    "\n",
    "Stanford whilst was known to be the weakest of the two openIE models(link), it created triples with information that even chatGPT did not create such as, to back to the previous example, Heath Ledger was an Australian actor and moved to America, which chatgpt did not create. This advance in Information extraction was due to stanford extract usually more than double the amount of triples the other model do. With this large amount of triples created a large portion of them being inaccurate or does not convey anything, most likely leading to Stanford creating the most amount of bad triples by far.\n",
    "\n",
    "By manually viewing a random sample of entities triples created by the 3 IE models, it can be seen that GPT extracts the most information at the highest accuracy. however, ChatGT still has its own issues, mainly encircling three topics. The first being the formatting of the triples. The Chatbot struggles to create triples, for all the entites, in the same manor, for example, changing between 'work', 'career', and 'film' when talking abbout movies and shows actors have been in or swtiching between strings and links for objects (schema:Person and 'Person'@en). Due to the spontanity of chatgpts different responses and having a seperate query for each entity, GPT could not create a univeral format for the triples it created.\n",
    "\n",
    "The second issue consists of the bot creating errors. The knowledge bot would extract information but at some point the specific information would be lost and it would create a vague triple, such as Robert Downy jnr. hasWork Work1,2,3... . This creates connections between entities that should not exist, creating splits that may happen have occurred during the 20Q tournament. This tendensy in the bot creates false information in a way that the other 2 models wouldn't\n",
    "\n",
    "The final issue is the models unbound requirement to access external knowledge bases such as Dbpedia. Whilst being extremely rare in the model, it can be seen that accationaly that the model is accessing some sort of knowlegde base, it can be seen that it accesssed one for Lenonardo DiCaprio as one of the triples contains a link to his website homepage, that is not present in his wikipedia abstract. Even when specified not to access DBpedia, the model still continues to showing limited specifications that can be put on the model at the moment"
   ]
  }
 ],
 "metadata": {
  "kernelspec": {
   "display_name": "Python 3 (ipykernel)",
   "language": "python",
   "name": "python3"
  },
  "language_info": {
   "codemirror_mode": {
    "name": "ipython",
    "version": 3
   },
   "file_extension": ".py",
   "mimetype": "text/x-python",
   "name": "python",
   "nbconvert_exporter": "python",
   "pygments_lexer": "ipython3",
   "version": "3.9.16"
  }
 },
 "nbformat": 4,
 "nbformat_minor": 5
}
