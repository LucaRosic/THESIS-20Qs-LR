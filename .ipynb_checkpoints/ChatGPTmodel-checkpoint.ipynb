{
 "cells": [
  {
   "cell_type": "code",
   "execution_count": null,
   "id": "fb6514c3-f5a4-45e4-8962-1a603db5aec5",
   "metadata": {},
   "outputs": [],
   "source": [
    "import pandas as pd\n",
    "data = pd.read_csv(\"abstracts.csv\")\n",
    "data = data.drop('Unnamed: 0', axis=1)\n",
    "data"
   ]
  },
  {
   "cell_type": "markdown",
   "id": "6863ce7e-7f6e-4da4-a968-e53fa1863a83",
   "metadata": {},
   "source": [
    "## Get ChatGPT Triples"
   ]
  },
  {
   "cell_type": "code",
   "execution_count": null,
   "id": "0e02500a-f4b0-4bae-9d30-92f0445e0e58",
   "metadata": {},
   "outputs": [],
   "source": [
    "import openai\n",
    "\n",
    "def chatGPTQuery(label,abstract):\n",
    "    \n",
    "    openai.api_key = \"KEY\"\n",
    "\n",
    "    chatquery = (\"\"\"output just rdf like triples for the entity '%s' from the text:\n",
    "                 %s\"\"\" %(label, abstract))\n",
    "    \n",
    "    response = openai.ChatCompletion.create(\n",
    "    model=\"gpt-3.5-turbo\",\n",
    "    messages=[\n",
    "            {\"role\": \"system\", \"content\": \"You are a chatbot\"},\n",
    "            {\"role\": \"user\", \"content\": chatquery},\n",
    "        ]\n",
    "        )\n",
    "\n",
    "    result = ''\n",
    "    for choice in response.choices:\n",
    "        result += choice.message.content\n",
    "\n",
    "    return result\n",
    "\n",
    "triples = []\n",
    "for s,p,o,label,dbosource,abstract in data.values:\n",
    "    if len(abstract) > 0:\n",
    "        triples.append(chatGPTQuery(label,abstract))\n",
    "    else:\n",
    "        triples.append('')\n",
    "\n",
    "data['Triples'] = triples\n",
    "triples[0]"
   ]
  },
  {
   "cell_type": "markdown",
   "id": "90443762-8554-42e9-b48d-e6ef2c390dff",
   "metadata": {},
   "source": [
    "## Extract Triples from String"
   ]
  },
  {
   "cell_type": "code",
   "execution_count": null,
   "id": "d1acc7f5-a113-4945-b860-4e424f44800a",
   "metadata": {},
   "outputs": [],
   "source": [
    "# Need to see strings to see how to export"
   ]
  },
  {
   "cell_type": "markdown",
   "id": "fc9361d6-da1e-41e7-ae17-3031487ac3b9",
   "metadata": {},
   "source": [
    "## Export triples"
   ]
  },
  {
   "cell_type": "code",
   "execution_count": null,
   "id": "7f99c873-0485-4308-bb7d-39a8b7de4e4b",
   "metadata": {},
   "outputs": [],
   "source": [
    "# Export triples into .ttl file \n",
    "#  # add to ChatGPT version of graphDB"
   ]
  }
 ],
 "metadata": {
  "kernelspec": {
   "display_name": "Python 3 (ipykernel)",
   "language": "python",
   "name": "python3"
  },
  "language_info": {
   "codemirror_mode": {
    "name": "ipython",
    "version": 3
   },
   "file_extension": ".py",
   "mimetype": "text/x-python",
   "name": "python",
   "nbconvert_exporter": "python",
   "pygments_lexer": "ipython3",
   "version": "3.9.16"
  }
 },
 "nbformat": 4,
 "nbformat_minor": 5
}
