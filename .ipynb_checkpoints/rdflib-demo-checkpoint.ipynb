{
 "cells": [
  {
   "cell_type": "markdown",
   "id": "42171715-8b4a-4d7f-8330-26fb4139564e",
   "metadata": {},
   "source": [
    "### small dataset"
   ]
  },
  {
   "cell_type": "code",
   "execution_count": 1,
   "id": "48423103-464f-4236-b012-8db041330a3c",
   "metadata": {
    "id": "a390f956",
    "outputId": "ff5a7107-0d93-4f96-8255-a5d635dc1d53"
   },
   "outputs": [],
   "source": [
    "import rdflib\n",
    "g = rdflib.Graph().parse('./fb15k-wikitop2021-yago4/fb15k-wikitop2021-yago-facts.nt', format='ntriples')\n",
    "g += rdflib.Graph().parse('./fb15k-wikitop2021-yago4/fb15k-wikitop2021-yago-full-types.nt', format='ntriples')"
   ]
  },
  {
   "cell_type": "code",
   "execution_count": 8,
   "id": "9d627d64-77b3-4094-bb1c-bed255ed5029",
   "metadata": {},
   "outputs": [],
   "source": [
    "from rdflib.namespace import RDF\n",
    "for line in open('./fb15k-wikitop2021-yago4/fb15k-wikitop2021.tsv').readlines()[1:]:\n",
    "    subject = rdflib.URIRef( line.split('\\t')[6][1:-1] ) # take the URI in column 6\n",
    "    g.add( (subject, RDF.type, rdflib.URIRef('http://example.com/popularEntity')) )"
   ]
  },
  {
   "cell_type": "code",
   "execution_count": 9,
   "id": "1d859c8b-9ff2-4992-98ea-e9138e15cbfa",
   "metadata": {},
   "outputs": [
    {
     "data": {
      "text/plain": [
       "<Graph identifier=N6451f0b4c95148d3801e78506ec95032 (<class 'rdflib.graph.Graph'>)>"
      ]
     },
     "execution_count": 9,
     "metadata": {},
     "output_type": "execute_result"
    }
   ],
   "source": [
    "g.serialize(destination='Thesis-Small(186).ttl', format='turtle')"
   ]
  }
 ],
 "metadata": {
  "colab": {
   "provenance": []
  },
  "kernelspec": {
   "display_name": "Python 3 (ipykernel)",
   "language": "python",
   "name": "python3"
  },
  "language_info": {
   "codemirror_mode": {
    "name": "ipython",
    "version": 3
   },
   "file_extension": ".py",
   "mimetype": "text/x-python",
   "name": "python",
   "nbconvert_exporter": "python",
   "pygments_lexer": "ipython3",
   "version": "3.9.16"
  }
 },
 "nbformat": 4,
 "nbformat_minor": 5
}
