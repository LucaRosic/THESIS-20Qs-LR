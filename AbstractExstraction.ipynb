{
 "cells": [
  {
   "cell_type": "markdown",
   "id": "54ab02f8-61eb-4434-903c-dae4b2ca02c1",
   "metadata": {},
   "source": [
    "#### To do:\n",
    "- get names from file \n",
    "- access dbpedia query \n",
    "- extract information\n",
    "\n",
    "#### To do after:\n",
    "- info extraction from comments \n",
    "-- maybe only when infomation is missing"
   ]
  },
  {
   "cell_type": "code",
   "execution_count": 1,
   "id": "8afe2bb9-45a3-4dc4-8b54-380df89a888f",
   "metadata": {},
   "outputs": [],
   "source": [
    "from SPARQLWrapper import SPARQLWrapper, JSON\n",
    "import pandas as pd\n",
    "import rdflib"
   ]
  },
  {
   "cell_type": "code",
   "execution_count": 2,
   "id": "810db8b5-4328-4d8c-aa94-c6278572a80a",
   "metadata": {},
   "outputs": [],
   "source": [
    "g = rdflib.Graph().parse('thesisKG.ttl', format='ttl')"
   ]
  },
  {
   "cell_type": "code",
   "execution_count": null,
   "id": "6b0e2f29-9e65-498c-b951-88205ff903b0",
   "metadata": {},
   "outputs": [
    {
     "data": {
      "text/html": [
       "<div>\n",
       "<style scoped>\n",
       "    .dataframe tbody tr th:only-of-type {\n",
       "        vertical-align: middle;\n",
       "    }\n",
       "\n",
       "    .dataframe tbody tr th {\n",
       "        vertical-align: top;\n",
       "    }\n",
       "\n",
       "    .dataframe thead th {\n",
       "        text-align: right;\n",
       "    }\n",
       "</style>\n",
       "<table border=\"1\" class=\"dataframe\">\n",
       "  <thead>\n",
       "    <tr style=\"text-align: right;\">\n",
       "      <th></th>\n",
       "      <th>S</th>\n",
       "      <th>P</th>\n",
       "      <th>O</th>\n",
       "      <th>label</th>\n",
       "      <th>dboSource</th>\n",
       "    </tr>\n",
       "  </thead>\n",
       "  <tbody>\n",
       "    <tr>\n",
       "      <th>0</th>\n",
       "      <td>http://yago-knowledge.org/resource/Fountain</td>\n",
       "      <td>http://www.w3.org/2000/01/rdf-schema#label</td>\n",
       "      <td>Vodna fontana</td>\n",
       "      <td>Fountain</td>\n",
       "      <td>Fountain</td>\n",
       "    </tr>\n",
       "    <tr>\n",
       "      <th>1</th>\n",
       "      <td>http://yago-knowledge.org/resource/Darrin_Hancock</td>\n",
       "      <td>http://schema.org/birthPlace</td>\n",
       "      <td>Birmingham, Alabama</td>\n",
       "      <td>Darrin Hancock</td>\n",
       "      <td>Darrin_Hancock</td>\n",
       "    </tr>\n",
       "    <tr>\n",
       "      <th>2</th>\n",
       "      <td>http://yago-knowledge.org/resource/Conflict_(p...</td>\n",
       "      <td>http://www.w3.org/2000/01/rdf-schema#label</td>\n",
       "      <td>konflikt</td>\n",
       "      <td>Conflict (process)</td>\n",
       "      <td>Conflict_(process)</td>\n",
       "    </tr>\n",
       "    <tr>\n",
       "      <th>3</th>\n",
       "      <td>http://yago-knowledge.org/resource/Flood</td>\n",
       "      <td>http://www.w3.org/2000/01/rdf-schema#label</td>\n",
       "      <td>Üleujotus</td>\n",
       "      <td>Flood</td>\n",
       "      <td>Flood</td>\n",
       "    </tr>\n",
       "    <tr>\n",
       "      <th>4</th>\n",
       "      <td>http://yago-knowledge.org/resource/Cryoshell_(...</td>\n",
       "      <td>http://schema.org/genre</td>\n",
       "      <td>Symphonic rock</td>\n",
       "      <td>Cryoshell (album)</td>\n",
       "      <td>Cryoshell_(album)</td>\n",
       "    </tr>\n",
       "    <tr>\n",
       "      <th>...</th>\n",
       "      <td>...</td>\n",
       "      <td>...</td>\n",
       "      <td>...</td>\n",
       "      <td>...</td>\n",
       "      <td>...</td>\n",
       "    </tr>\n",
       "    <tr>\n",
       "      <th>3152363</th>\n",
       "      <td>http://yago-knowledge.org/resource/Mike_Torchia</td>\n",
       "      <td>http://schema.org/memberOf</td>\n",
       "      <td>Dallas Stars</td>\n",
       "      <td>Mike Torchia</td>\n",
       "      <td>Mike_Torchia</td>\n",
       "    </tr>\n",
       "    <tr>\n",
       "      <th>3152364</th>\n",
       "      <td>http://yago-knowledge.org/resource/Constellation</td>\n",
       "      <td>http://www.w3.org/2000/01/rdf-schema#label</td>\n",
       "      <td>stjernebillede</td>\n",
       "      <td>Constellation</td>\n",
       "      <td>Constellation</td>\n",
       "    </tr>\n",
       "    <tr>\n",
       "      <th>3152365</th>\n",
       "      <td>http://yago-knowledge.org/resource/Oonche_Log_...</td>\n",
       "      <td>http://schema.org/actor</td>\n",
       "      <td>Rajesh Khanna</td>\n",
       "      <td>Oonche Log (1985 film)</td>\n",
       "      <td>Oonche_Log_(1985_film)</td>\n",
       "    </tr>\n",
       "    <tr>\n",
       "      <th>3152366</th>\n",
       "      <td>http://yago-knowledge.org/resource/Broadway_(b...</td>\n",
       "      <td>http://schema.org/foundingLocation</td>\n",
       "      <td>Orlando, Florida</td>\n",
       "      <td>Broadway (band)</td>\n",
       "      <td>Broadway_(band)</td>\n",
       "    </tr>\n",
       "    <tr>\n",
       "      <th>3152367</th>\n",
       "      <td>http://yago-knowledge.org/resource/Vivienne_Olive</td>\n",
       "      <td>http://www.w3.org/1999/02/22-rdf-syntax-ns#type</td>\n",
       "      <td>Human</td>\n",
       "      <td>Vivienne Olive</td>\n",
       "      <td>Vivienne_Olive</td>\n",
       "    </tr>\n",
       "  </tbody>\n",
       "</table>\n",
       "<p>3152368 rows × 5 columns</p>\n",
       "</div>"
      ],
      "text/plain": [
       "                                                         S  \\\n",
       "0              http://yago-knowledge.org/resource/Fountain   \n",
       "1        http://yago-knowledge.org/resource/Darrin_Hancock   \n",
       "2        http://yago-knowledge.org/resource/Conflict_(p...   \n",
       "3                 http://yago-knowledge.org/resource/Flood   \n",
       "4        http://yago-knowledge.org/resource/Cryoshell_(...   \n",
       "...                                                    ...   \n",
       "3152363    http://yago-knowledge.org/resource/Mike_Torchia   \n",
       "3152364   http://yago-knowledge.org/resource/Constellation   \n",
       "3152365  http://yago-knowledge.org/resource/Oonche_Log_...   \n",
       "3152366  http://yago-knowledge.org/resource/Broadway_(b...   \n",
       "3152367  http://yago-knowledge.org/resource/Vivienne_Olive   \n",
       "\n",
       "                                                       P                    O  \\\n",
       "0             http://www.w3.org/2000/01/rdf-schema#label        Vodna fontana   \n",
       "1                           http://schema.org/birthPlace  Birmingham, Alabama   \n",
       "2             http://www.w3.org/2000/01/rdf-schema#label             konflikt   \n",
       "3             http://www.w3.org/2000/01/rdf-schema#label            Üleujotus   \n",
       "4                                http://schema.org/genre       Symphonic rock   \n",
       "...                                                  ...                  ...   \n",
       "3152363                       http://schema.org/memberOf         Dallas Stars   \n",
       "3152364       http://www.w3.org/2000/01/rdf-schema#label       stjernebillede   \n",
       "3152365                          http://schema.org/actor        Rajesh Khanna   \n",
       "3152366               http://schema.org/foundingLocation     Orlando, Florida   \n",
       "3152367  http://www.w3.org/1999/02/22-rdf-syntax-ns#type                Human   \n",
       "\n",
       "                          label               dboSource  \n",
       "0                      Fountain                Fountain  \n",
       "1                Darrin Hancock          Darrin_Hancock  \n",
       "2            Conflict (process)      Conflict_(process)  \n",
       "3                         Flood                   Flood  \n",
       "4             Cryoshell (album)       Cryoshell_(album)  \n",
       "...                         ...                     ...  \n",
       "3152363            Mike Torchia            Mike_Torchia  \n",
       "3152364           Constellation           Constellation  \n",
       "3152365  Oonche Log (1985 film)  Oonche_Log_(1985_film)  \n",
       "3152366         Broadway (band)         Broadway_(band)  \n",
       "3152367          Vivienne Olive          Vivienne_Olive  \n",
       "\n",
       "[3152368 rows x 5 columns]"
      ]
     },
     "execution_count": 3,
     "metadata": {},
     "output_type": "execute_result"
    }
   ],
   "source": [
    "d=pd.DataFrame(g)\n",
    "d.rename(columns={0: 'S', 1: 'P', 2: 'O'}, inplace=True)\n",
    "s = []\n",
    "s_source = []\n",
    "for i in d.S:\n",
    "    topic = i.split('/')[-1]\n",
    "    s_source.append(topic)\n",
    "    split = topic.split('_')\n",
    "    s.append(' '.join(split))\n",
    "d['label'] = s\n",
    "d['dboSource'] = s_source\n",
    "o = []\n",
    "for i in d.O:\n",
    "    topic = i.split('/')[-1]\n",
    "    split = topic.split('_')\n",
    "    o.append(' '.join(split))\n",
    "d['O'] = o\n",
    "d"
   ]
  },
  {
   "cell_type": "code",
   "execution_count": 1,
   "id": "08238d28-01c6-4c9b-81d1-55ced9c91506",
   "metadata": {},
   "outputs": [
    {
     "ename": "NameError",
     "evalue": "name 'd' is not defined",
     "output_type": "error",
     "traceback": [
      "\u001b[0;31m---------------------------------------------------------------------------\u001b[0m",
      "\u001b[0;31mNameError\u001b[0m                                 Traceback (most recent call last)",
      "Cell \u001b[0;32mIn[1], line 1\u001b[0m\n\u001b[0;32m----> 1\u001b[0m pops \u001b[38;5;241m=\u001b[39m \u001b[43md\u001b[49m[d\u001b[38;5;241m.\u001b[39mO\u001b[38;5;241m.\u001b[39misin([\u001b[38;5;124m'\u001b[39m\u001b[38;5;124mpopularEntity\u001b[39m\u001b[38;5;124m'\u001b[39m])]\u001b[38;5;241m.\u001b[39mreset_index()\n\u001b[1;32m      2\u001b[0m pops \u001b[38;5;241m=\u001b[39m pops\u001b[38;5;241m.\u001b[39mdrop(\u001b[38;5;124m'\u001b[39m\u001b[38;5;124mindex\u001b[39m\u001b[38;5;124m'\u001b[39m, axis\u001b[38;5;241m=\u001b[39m\u001b[38;5;241m1\u001b[39m)\n\u001b[1;32m      3\u001b[0m pops[\u001b[38;5;241m-\u001b[39m\u001b[38;5;241m1\u001b[39m]\n",
      "\u001b[0;31mNameError\u001b[0m: name 'd' is not defined"
     ]
    }
   ],
   "source": [
    "pops = d[d.O.isin(['popularEntity'])].reset_index()\n",
    "pops = pops.drop('index', axis=1)\n",
    "pops[-1]"
   ]
  },
  {
   "cell_type": "code",
   "execution_count": 54,
   "id": "f5585ef1-2fd6-4097-b554-d0f21e827211",
   "metadata": {},
   "outputs": [
    {
     "data": {
      "text/plain": [
       "12763"
      ]
     },
     "execution_count": 54,
     "metadata": {},
     "output_type": "execute_result"
    }
   ],
   "source": [
    "len(pops)"
   ]
  },
  {
   "cell_type": "code",
   "execution_count": 79,
   "id": "497ab5a7-33d4-437f-9ec9-6fe866a0ae90",
   "metadata": {},
   "outputs": [
    {
     "name": "stdout",
     "output_type": "stream",
     "text": [
      "0\n",
      "1000\n",
      "2000\n",
      "3000\n",
      "4000\n",
      "5000\n",
      "6000\n",
      "7000\n",
      "8000\n",
      "9000\n",
      "10000\n",
      "11000\n",
      "12000\n"
     ]
    },
    {
     "data": {
      "text/plain": [
       "(12763, 12763)"
      ]
     },
     "execution_count": 79,
     "metadata": {},
     "output_type": "execute_result"
    }
   ],
   "source": [
    "def query(popent):\n",
    "    fun = False\n",
    "    while fun == False:\n",
    "        try:\n",
    "            sparql = SPARQLWrapper(\"http://dbpedia.org/sparql\")\n",
    "            sparql.setReturnFormat(JSON)\n",
    "            sparql.setQuery(\"\"\"\n",
    "                PREFIX rdfs: <http://www.w3.org/2000/01/rdf-schema#>\n",
    "                PREFIX dbo: <http://dbpedia.org/ontology/>\n",
    "                SELECT ?abstract\n",
    "                WHERE { \n",
    "                ?s rdfs:label \"%s\" @en .\n",
    "                ?s dbo:abstract ?abstract .\n",
    "                FILTER (LANG(?abstract) = \"en\")\n",
    "                }\n",
    "                \"\"\" %(popent))\n",
    "            results = sparql.query().convert()\n",
    "            fun = True\n",
    "        except:\n",
    "            fun = False\n",
    "    return results \n",
    "\n",
    "abstracts = []\n",
    "j = 0\n",
    "for label in pops.label:\n",
    "    if j % 1000 == 0:\n",
    "        print(j)\n",
    "    pastablen = len(abstracts)\n",
    "    results = query(label)\n",
    "    if len(results[\"results\"][\"bindings\"]) == 0:\n",
    "        abstracts.append('')\n",
    "        j+=1\n",
    "        continue \n",
    "    for result in results[\"results\"][\"bindings\"]:\n",
    "        abstracts.append(result['abstract']['value'])\n",
    "        j += 1\n",
    "j, len(pops)"
   ]
  },
  {
   "cell_type": "code",
   "execution_count": 80,
   "id": "5ff2b1c4-6ef5-4be9-a8af-3563d115a37a",
   "metadata": {},
   "outputs": [
    {
     "data": {
      "text/plain": [
       "(12763, 12763, 12763)"
      ]
     },
     "execution_count": 80,
     "metadata": {},
     "output_type": "execute_result"
    }
   ],
   "source": [
    "len(pops), len(abstracts), len(pops.label)"
   ]
  },
  {
   "cell_type": "code",
   "execution_count": 86,
   "id": "6d55482f-52ca-4356-af90-027cf97f590c",
   "metadata": {},
   "outputs": [
    {
     "data": {
      "text/plain": [
       "309"
      ]
     },
     "execution_count": 86,
     "metadata": {},
     "output_type": "execute_result"
    }
   ],
   "source": [
    "# There are 309 (out of 12763) entities that their abstract could not be accessed \n",
    "blanks = 0\n",
    "for i in abstracts:\n",
    "    if len(i) == 0:\n",
    "        blanks += 1\n",
    "blanks"
   ]
  },
  {
   "cell_type": "code",
   "execution_count": 84,
   "id": "b9241901-5640-4d81-a088-c60ca5279dda",
   "metadata": {},
   "outputs": [],
   "source": [
    "pops['Abstracts']= abstracts\n",
    "pops"
   ]
  },
  {
   "cell_type": "code",
   "execution_count": 85,
   "id": "6b3f3e65-fb09-40a4-834b-c57654f44f64",
   "metadata": {},
   "outputs": [],
   "source": [
    "pops.to_csv('abstracts.csv')"
   ]
  }
 ],
 "metadata": {
  "kernelspec": {
   "display_name": "Python 3 (ipykernel)",
   "language": "python",
   "name": "python3"
  },
  "language_info": {
   "codemirror_mode": {
    "name": "ipython",
    "version": 3
   },
   "file_extension": ".py",
   "mimetype": "text/x-python",
   "name": "python",
   "nbconvert_exporter": "python",
   "pygments_lexer": "ipython3",
   "version": "3.9.16"
  }
 },
 "nbformat": 4,
 "nbformat_minor": 5
}
